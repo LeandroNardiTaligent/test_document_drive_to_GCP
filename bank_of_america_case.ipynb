{
 "cells": [
  {
   "cell_type": "markdown",
   "id": "ce164e22",
   "metadata": {
    "papermill": {
     "duration": 0.006997,
     "end_time": "2022-12-05T15:08:16.023781",
     "exception": false,
     "start_time": "2022-12-05T15:08:16.016784",
     "status": "completed"
    },
    "tags": []
   },
   "source": [
    "## <center> Bank Of America Case </center>"
   ]
  },
  {
   "cell_type": "markdown",
   "id": "5d408b24",
   "metadata": {
    "papermill": {
     "duration": 0.013993,
     "end_time": "2022-12-05T15:08:16.044771",
     "exception": false,
     "start_time": "2022-12-05T15:08:16.030778",
     "status": "completed"
    },
    "tags": []
   },
   "source": [
    "### Import Data and Storage in Hash Table"
   ]
  },
  {
   "cell_type": "code",
   "execution_count": 80,
   "id": "2e365c2f",
   "metadata": {
    "execution": {
     "iopub.execute_input": "2022-12-05T15:08:16.070755Z",
     "iopub.status.busy": "2022-12-05T15:08:16.069759Z",
     "iopub.status.idle": "2022-12-05T15:08:16.853468Z",
     "shell.execute_reply": "2022-12-05T15:08:16.851496Z"
    },
    "papermill": {
     "duration": 0.8007,
     "end_time": "2022-12-05T15:08:16.856466",
     "exception": false,
     "start_time": "2022-12-05T15:08:16.055766",
     "status": "completed"
    },
    "tags": []
   },
   "outputs": [],
   "source": [
    "import numpy as np\n",
    "import pandas as pd\n",
    "import os\n",
    "import re"
   ]
  },
  {
   "cell_type": "code",
   "execution_count": 81,
   "id": "6a197d25",
   "metadata": {
    "execution": {
     "iopub.execute_input": "2022-12-05T15:08:16.886449Z",
     "iopub.status.busy": "2022-12-05T15:08:16.885449Z",
     "iopub.status.idle": "2022-12-05T15:08:16.901440Z",
     "shell.execute_reply": "2022-12-05T15:08:16.898441Z"
    },
    "papermill": {
     "duration": 0.035979,
     "end_time": "2022-12-05T15:08:16.904438",
     "exception": false,
     "start_time": "2022-12-05T15:08:16.868459",
     "status": "completed"
    },
    "tags": []
   },
   "outputs": [],
   "source": [
    "def fix_first_row(dic_data, key):\n",
    "    arr = np.array([])\n",
    "    for idx, value in enumerate(dic_data[key].iloc[0:1,:].values.reshape(-1,1).flatten()):\n",
    "        if idx != 1:\n",
    "            lista = value.split(\" \")\n",
    "            if len(arr) == 0:\n",
    "                arr = np.hstack((arr, np.array(lista)))\n",
    "                arr = arr.reshape(-1,1)\n",
    "                continue\n",
    "            arr = np.hstack((arr, np.array(lista).reshape(-1,1)))\n",
    "            continue\n",
    "        lista = value.split(\"Zelle\")\n",
    "        final_string = lista[len(lista) - 1][:0] + 'Zelle' + lista[len(lista) - 1][0:]\n",
    "        lista[len(lista) - 1] = final_string\n",
    "        arr = np.hstack((arr, np.array(lista).reshape(-1,1)))\n",
    "    return pd.DataFrame(arr, columns = [\"DATE\", \"DESCRIPTION\", \"AMOUNT\"])"
   ]
  },
  {
   "cell_type": "code",
   "execution_count": 82,
   "id": "b773518d",
   "metadata": {
    "execution": {
     "iopub.execute_input": "2022-12-05T15:08:16.936421Z",
     "iopub.status.busy": "2022-12-05T15:08:16.935423Z",
     "iopub.status.idle": "2022-12-05T15:08:16.946415Z",
     "shell.execute_reply": "2022-12-05T15:08:16.945415Z"
    },
    "papermill": {
     "duration": 0.028983,
     "end_time": "2022-12-05T15:08:16.949413",
     "exception": false,
     "start_time": "2022-12-05T15:08:16.920430",
     "status": "completed"
    },
    "tags": []
   },
   "outputs": [],
   "source": [
    "path = os.getcwd()\n",
    "folder = \"output_bank_of_america_documentai\"\n",
    "folder_file = \"file_6\"\n",
    "files = os.listdir(os.path.join(folder, folder_file))"
   ]
  },
  {
   "cell_type": "code",
   "execution_count": 83,
   "id": "25f1aae9",
   "metadata": {
    "execution": {
     "iopub.execute_input": "2022-12-05T15:08:16.978396Z",
     "iopub.status.busy": "2022-12-05T15:08:16.977396Z",
     "iopub.status.idle": "2022-12-05T15:08:17.025369Z",
     "shell.execute_reply": "2022-12-05T15:08:17.023371Z"
    },
    "papermill": {
     "duration": 0.066965,
     "end_time": "2022-12-05T15:08:17.030369",
     "exception": false,
     "start_time": "2022-12-05T15:08:16.963404",
     "status": "completed"
    },
    "tags": []
   },
   "outputs": [],
   "source": [
    "dic_data = {}\n",
    "for file in files:\n",
    "    data = pd.read_csv(os.path.join(path, folder, folder_file, file))\n",
    "    p = \"(pg\\d\\w+)\"\n",
    "    regex_p= re.compile(p)\n",
    "    dic_key = regex_p.search(file).group()\n",
    "    dic_data[dic_key] = data"
   ]
  },
  {
   "cell_type": "code",
   "execution_count": 84,
   "id": "0ba131b1",
   "metadata": {
    "execution": {
     "iopub.execute_input": "2022-12-05T15:08:17.063862Z",
     "iopub.status.busy": "2022-12-05T15:08:17.063862Z",
     "iopub.status.idle": "2022-12-05T15:08:17.088357Z",
     "shell.execute_reply": "2022-12-05T15:08:17.086358Z"
    },
    "papermill": {
     "duration": 0.046482,
     "end_time": "2022-12-05T15:08:17.092354",
     "exception": false,
     "start_time": "2022-12-05T15:08:17.045872",
     "status": "completed"
    },
    "tags": []
   },
   "outputs": [
    {
     "name": "stdout",
     "output_type": "stream",
     "text": [
      "pg1_tb0\n",
      "pg3_tb0\n",
      "pg4_tb0\n",
      "pg4_tb1\n",
      "pg4_tb2\n"
     ]
    }
   ],
   "source": [
    "for key in dic_data.keys():\n",
    "    print(key)"
   ]
  },
  {
   "cell_type": "code",
   "execution_count": 87,
   "id": "9809cc41",
   "metadata": {
    "execution": {
     "iopub.execute_input": "2022-12-05T15:08:17.125845Z",
     "iopub.status.busy": "2022-12-05T15:08:17.124846Z",
     "iopub.status.idle": "2022-12-05T15:08:17.163823Z",
     "shell.execute_reply": "2022-12-05T15:08:17.162823Z"
    },
    "papermill": {
     "duration": 0.060475,
     "end_time": "2022-12-05T15:08:17.167821",
     "exception": false,
     "start_time": "2022-12-05T15:08:17.107346",
     "status": "completed"
    },
    "tags": []
   },
   "outputs": [
    {
     "data": {
      "text/html": [
       "<div>\n",
       "<style scoped>\n",
       "    .dataframe tbody tr th:only-of-type {\n",
       "        vertical-align: middle;\n",
       "    }\n",
       "\n",
       "    .dataframe tbody tr th {\n",
       "        vertical-align: top;\n",
       "    }\n",
       "\n",
       "    .dataframe thead th {\n",
       "        text-align: right;\n",
       "    }\n",
       "</style>\n",
       "<table border=\"1\" class=\"dataframe\">\n",
       "  <thead>\n",
       "    <tr style=\"text-align: right;\">\n",
       "      <th></th>\n",
       "      <th>Unnamed: 0</th>\n",
       "      <th>Total for this period</th>\n",
       "      <th>Total year-to-date</th>\n",
       "    </tr>\n",
       "  </thead>\n",
       "  <tbody>\n",
       "    <tr>\n",
       "      <th>0</th>\n",
       "      <td>Total Overdraft fees</td>\n",
       "      <td>$0.00</td>\n",
       "      <td>$70.00</td>\n",
       "    </tr>\n",
       "    <tr>\n",
       "      <th>1</th>\n",
       "      <td>Total NSF: Returned Item fees</td>\n",
       "      <td>$0.00</td>\n",
       "      <td>$0.00</td>\n",
       "    </tr>\n",
       "  </tbody>\n",
       "</table>\n",
       "</div>"
      ],
      "text/plain": [
       "                      Unnamed: 0 Total for this period Total year-to-date\n",
       "0           Total Overdraft fees                 $0.00             $70.00\n",
       "1  Total NSF: Returned Item fees                 $0.00              $0.00"
      ]
     },
     "execution_count": 87,
     "metadata": {},
     "output_type": "execute_result"
    }
   ],
   "source": [
    "dic_data[\"pg4_tb0\"]"
   ]
  },
  {
   "cell_type": "markdown",
   "id": "ce84b4fb",
   "metadata": {
    "papermill": {
     "duration": 0.014991,
     "end_time": "2022-12-05T15:08:17.199312",
     "exception": false,
     "start_time": "2022-12-05T15:08:17.184321",
     "status": "completed"
    },
    "tags": []
   },
   "source": [
    "### Separate used table and Storage in Another Dic"
   ]
  },
  {
   "cell_type": "code",
   "execution_count": 7,
   "id": "5409b9d7",
   "metadata": {
    "execution": {
     "iopub.execute_input": "2022-12-05T15:08:17.231294Z",
     "iopub.status.busy": "2022-12-05T15:08:17.230294Z",
     "iopub.status.idle": "2022-12-05T15:08:17.243287Z",
     "shell.execute_reply": "2022-12-05T15:08:17.242288Z"
    },
    "papermill": {
     "duration": 0.03498,
     "end_time": "2022-12-05T15:08:17.247285",
     "exception": false,
     "start_time": "2022-12-05T15:08:17.212305",
     "status": "completed"
    },
    "tags": []
   },
   "outputs": [],
   "source": [
    "tables = {}\n",
    "for key in dic_data.keys():\n",
    "    if len(dic_data[key].columns) == 3 and \"Description\" in dic_data[key].columns:\n",
    "        tables[key] = dic_data[key] \n",
    "    # elif len(dic_data[key].columns) == 3 and \"Amount\" in dic_data[key].columns:\n",
    "    #     tables[key] = dic_data[key]\n"
   ]
  },
  {
   "cell_type": "code",
   "execution_count": 8,
   "id": "fc4476a5",
   "metadata": {
    "execution": {
     "iopub.execute_input": "2022-12-05T15:08:17.278267Z",
     "iopub.status.busy": "2022-12-05T15:08:17.277268Z",
     "iopub.status.idle": "2022-12-05T15:08:17.291259Z",
     "shell.execute_reply": "2022-12-05T15:08:17.290260Z"
    },
    "papermill": {
     "duration": 0.031981,
     "end_time": "2022-12-05T15:08:17.295257",
     "exception": false,
     "start_time": "2022-12-05T15:08:17.263276",
     "status": "completed"
    },
    "tags": []
   },
   "outputs": [
    {
     "name": "stdout",
     "output_type": "stream",
     "text": [
      "eStmt_2021-01-29 (1)_pg3_tb0\n",
      "eStmt_2021-01-29 (1)_pg3_tb1\n",
      "eStmt_2021-01-29 (1)_pg4_tb0\n"
     ]
    }
   ],
   "source": [
    "for key in tables.keys():\n",
    "    print(key)"
   ]
  },
  {
   "cell_type": "code",
   "execution_count": 9,
   "id": "07e581ea",
   "metadata": {
    "execution": {
     "iopub.execute_input": "2022-12-05T15:08:17.318244Z",
     "iopub.status.busy": "2022-12-05T15:08:17.317245Z",
     "iopub.status.idle": "2022-12-05T15:08:17.338233Z",
     "shell.execute_reply": "2022-12-05T15:08:17.337234Z"
    },
    "papermill": {
     "duration": 0.035979,
     "end_time": "2022-12-05T15:08:17.342230",
     "exception": false,
     "start_time": "2022-12-05T15:08:17.306251",
     "status": "completed"
    },
    "tags": []
   },
   "outputs": [
    {
     "data": {
      "text/html": [
       "<div>\n",
       "<style scoped>\n",
       "    .dataframe tbody tr th:only-of-type {\n",
       "        vertical-align: middle;\n",
       "    }\n",
       "\n",
       "    .dataframe tbody tr th {\n",
       "        vertical-align: top;\n",
       "    }\n",
       "\n",
       "    .dataframe thead th {\n",
       "        text-align: right;\n",
       "    }\n",
       "</style>\n",
       "<table border=\"1\" class=\"dataframe\">\n",
       "  <thead>\n",
       "    <tr style=\"text-align: right;\">\n",
       "      <th></th>\n",
       "      <th>Date</th>\n",
       "      <th>Description</th>\n",
       "      <th>Amount</th>\n",
       "    </tr>\n",
       "  </thead>\n",
       "  <tbody>\n",
       "    <tr>\n",
       "      <th>0</th>\n",
       "      <td>01/12/21 01/13/21</td>\n",
       "      <td>AMERICAN EXPRESS DES:ACH PMT ID:M4010 INDN:Riv...</td>\n",
       "      <td>-1,132.32 -200.00</td>\n",
       "    </tr>\n",
       "    <tr>\n",
       "      <th>1</th>\n",
       "      <td>01/15/21</td>\n",
       "      <td>Zelle Transfer Conf# 607f94355; Jhonattan Chica</td>\n",
       "      <td>-800.00</td>\n",
       "    </tr>\n",
       "    <tr>\n",
       "      <th>2</th>\n",
       "      <td>01/19/21</td>\n",
       "      <td>AMERICAN EXPRESS DES:ACH PMT ID:M1438 INDN:Riv...</td>\n",
       "      <td>-9,000.00</td>\n",
       "    </tr>\n",
       "    <tr>\n",
       "      <th>3</th>\n",
       "      <td>01/19/21</td>\n",
       "      <td>AUDI FINCL, TEL. DES:WEB DEBIT ID: PWBS8116261...</td>\n",
       "      <td>-865.93</td>\n",
       "    </tr>\n",
       "    <tr>\n",
       "      <th>4</th>\n",
       "      <td>01/19/21</td>\n",
       "      <td>DES:Auto Pay ID:5000726658 INDN:River Luna CO ...</td>\n",
       "      <td>-583.88</td>\n",
       "    </tr>\n",
       "    <tr>\n",
       "      <th>5</th>\n",
       "      <td>01/20/21</td>\n",
       "      <td>VERIZON WIRELESS DES:PAYMENTS ID:0325517165000...</td>\n",
       "      <td>-555.38</td>\n",
       "    </tr>\n",
       "    <tr>\n",
       "      <th>6</th>\n",
       "      <td>01/25/21</td>\n",
       "      <td>Zelle Transfer Conf# 4dde984b8; Jhonattan Chica</td>\n",
       "      <td>-500.00</td>\n",
       "    </tr>\n",
       "    <tr>\n",
       "      <th>7</th>\n",
       "      <td>01/26/21</td>\n",
       "      <td>Zelle Transfer Conf# 739b24f62; Carlos Zapata</td>\n",
       "      <td>-50.00</td>\n",
       "    </tr>\n",
       "    <tr>\n",
       "      <th>8</th>\n",
       "      <td>01/28/21</td>\n",
       "      <td>Zelle Transfer Conf# 55e1711e2; Diego Reloj</td>\n",
       "      <td>-1,000.00</td>\n",
       "    </tr>\n",
       "    <tr>\n",
       "      <th>9</th>\n",
       "      <td>01/28/21</td>\n",
       "      <td>GM Financial DES:GMF Pymt ID:00112043538669 IN...</td>\n",
       "      <td>-718.42</td>\n",
       "    </tr>\n",
       "    <tr>\n",
       "      <th>10</th>\n",
       "      <td>Card account</td>\n",
       "      <td># XXXX XXXX XXXX 7255</td>\n",
       "      <td>NaN</td>\n",
       "    </tr>\n",
       "    <tr>\n",
       "      <th>11</th>\n",
       "      <td>01/21/21</td>\n",
       "      <td>CHECKCARD 0120 MIDLANDCREDITMANA 877-2402377 C...</td>\n",
       "      <td>-100.00</td>\n",
       "    </tr>\n",
       "    <tr>\n",
       "      <th>12</th>\n",
       "      <td>NaN</td>\n",
       "      <td>CKCD 6051 XXXXXXXXXXXX7255 XXXX XXXX XXXX 7255</td>\n",
       "      <td>NaN</td>\n",
       "    </tr>\n",
       "    <tr>\n",
       "      <th>13</th>\n",
       "      <td>Subtotal for</td>\n",
       "      <td>card account # XXXX XXXX XXXX 7255</td>\n",
       "      <td>-$100.00</td>\n",
       "    </tr>\n",
       "    <tr>\n",
       "      <th>14</th>\n",
       "      <td>Total</td>\n",
       "      <td>withdrawals and other debits</td>\n",
       "      <td>-$26,498.88</td>\n",
       "    </tr>\n",
       "  </tbody>\n",
       "</table>\n",
       "</div>"
      ],
      "text/plain": [
       "                 Date                                        Description  \\\n",
       "0   01/12/21 01/13/21  AMERICAN EXPRESS DES:ACH PMT ID:M4010 INDN:Riv...   \n",
       "1            01/15/21    Zelle Transfer Conf# 607f94355; Jhonattan Chica   \n",
       "2            01/19/21  AMERICAN EXPRESS DES:ACH PMT ID:M1438 INDN:Riv...   \n",
       "3            01/19/21  AUDI FINCL, TEL. DES:WEB DEBIT ID: PWBS8116261...   \n",
       "4            01/19/21  DES:Auto Pay ID:5000726658 INDN:River Luna CO ...   \n",
       "5            01/20/21  VERIZON WIRELESS DES:PAYMENTS ID:0325517165000...   \n",
       "6            01/25/21    Zelle Transfer Conf# 4dde984b8; Jhonattan Chica   \n",
       "7            01/26/21      Zelle Transfer Conf# 739b24f62; Carlos Zapata   \n",
       "8            01/28/21        Zelle Transfer Conf# 55e1711e2; Diego Reloj   \n",
       "9            01/28/21  GM Financial DES:GMF Pymt ID:00112043538669 IN...   \n",
       "10       Card account                              # XXXX XXXX XXXX 7255   \n",
       "11           01/21/21  CHECKCARD 0120 MIDLANDCREDITMANA 877-2402377 C...   \n",
       "12                NaN     CKCD 6051 XXXXXXXXXXXX7255 XXXX XXXX XXXX 7255   \n",
       "13       Subtotal for                 card account # XXXX XXXX XXXX 7255   \n",
       "14              Total                       withdrawals and other debits   \n",
       "\n",
       "               Amount  \n",
       "0   -1,132.32 -200.00  \n",
       "1             -800.00  \n",
       "2           -9,000.00  \n",
       "3             -865.93  \n",
       "4             -583.88  \n",
       "5             -555.38  \n",
       "6             -500.00  \n",
       "7              -50.00  \n",
       "8           -1,000.00  \n",
       "9             -718.42  \n",
       "10                NaN  \n",
       "11            -100.00  \n",
       "12                NaN  \n",
       "13           -$100.00  \n",
       "14        -$26,498.88  "
      ]
     },
     "execution_count": 9,
     "metadata": {},
     "output_type": "execute_result"
    }
   ],
   "source": [
    "dic_data[\"eStmt_2021-01-29 (1)_pg4_tb0\"]"
   ]
  },
  {
   "cell_type": "markdown",
   "id": "9f0264c9",
   "metadata": {
    "papermill": {
     "duration": 0.01899,
     "end_time": "2022-12-05T15:08:17.372214",
     "exception": false,
     "start_time": "2022-12-05T15:08:17.353224",
     "status": "completed"
    },
    "tags": []
   },
   "source": [
    "### Preprocessing tables "
   ]
  },
  {
   "cell_type": "code",
   "execution_count": 10,
   "id": "1f42b5f7",
   "metadata": {
    "execution": {
     "iopub.execute_input": "2022-12-05T15:08:17.402197Z",
     "iopub.status.busy": "2022-12-05T15:08:17.401197Z",
     "iopub.status.idle": "2022-12-05T15:08:17.450169Z",
     "shell.execute_reply": "2022-12-05T15:08:17.449169Z"
    },
    "papermill": {
     "duration": 0.067962,
     "end_time": "2022-12-05T15:08:17.455166",
     "exception": false,
     "start_time": "2022-12-05T15:08:17.387204",
     "status": "completed"
    },
    "tags": []
   },
   "outputs": [],
   "source": [
    "tables_2 = {}\n",
    "for key in tables.keys():\n",
    "    if \"credits\" in tables[key].Description.values[len(tables[key]) - 1]:\n",
    "        \n",
    "        table = tables[key].astype(str)\n",
    "        table.columns = [x.upper() for x in table.columns]\n",
    "        \n",
    "        table = table.drop(table.index[len(table)-1])\n",
    "        \n",
    "        table.AMOUNT = table.AMOUNT.apply(lambda x: x.replace(\"$\", \"\"))\n",
    "        table.AMOUNT = table.AMOUNT.apply(lambda x: x.replace(\",\", \"\"))\n",
    "        table[\"AMOUNT\"] = table[\"AMOUNT\"].astype(float)\n",
    "        table[\"type\"] = \"Income\"\n",
    "        \n",
    "        tables_2[key] = table\n",
    "\n",
    "    elif \"debits\" in tables[key].Description.values[len(tables[key]) - 1]:\n",
    "        \n",
    "        table = tables[key]\n",
    "        table = table.dropna()\n",
    "        table = table.astype(str)\n",
    "        \n",
    "        firsts_row = fix_first_row(tables, key)\n",
    "        table = table.iloc[1:, :] #delete first row\n",
    "        table.columns = [\"DATE\", \"DESCRIPTION\", \"AMOUNT\"]\n",
    "        table = pd.concat([firsts_row,table], axis=0).reset_index(drop=True)\n",
    "        \n",
    "        while \"total\" in table.DATE.values[len(table) - 1] or \"Total\" in table.DATE.values[len(table) - 1]:\n",
    "            table = table.drop(table.index[len(table)-1])\n",
    "        \n",
    "        \n",
    "        \n",
    "        table.AMOUNT = table.AMOUNT.apply(lambda x: x.replace(\"$\", \"\"))\n",
    "        table.AMOUNT = table.AMOUNT.apply(lambda x: x.replace(\",\", \"\"))\n",
    "        table[\"AMOUNT\"] = table[\"AMOUNT\"].astype(float)\n",
    "        table[\"type\"] = \"Withdrawals\"\n",
    "\n",
    "        tables_2[key] = table\n",
    "        \n",
    "    else:\n",
    "        table = tables[key].astype(str)\n",
    "        table.columns = [x.upper() for x in table.columns]\n",
    "        table.AMOUNT = table.AMOUNT.apply(lambda x: x.replace(\"$\", \"\"))\n",
    "        table.AMOUNT = table.AMOUNT.apply(lambda x: x.replace(\",\", \"\"))\n",
    "        table[\"AMOUNT\"] = table[\"AMOUNT\"].astype(float)\n",
    "        if table[\"AMOUNT\"].values[0] < 0:\n",
    "            table[\"type\"] = \"Withdrawals\"\n",
    "        elif table[\"AMOUNT\"].values[0] > 0:\n",
    "            table[\"type\"] = \"Income\"\n",
    "        tables_2[key] = table"
   ]
  },
  {
   "cell_type": "code",
   "execution_count": 11,
   "id": "4333014f",
   "metadata": {
    "execution": {
     "iopub.execute_input": "2022-12-05T15:08:17.493144Z",
     "iopub.status.busy": "2022-12-05T15:08:17.492145Z",
     "iopub.status.idle": "2022-12-05T15:08:17.512134Z",
     "shell.execute_reply": "2022-12-05T15:08:17.510135Z"
    },
    "papermill": {
     "duration": 0.042975,
     "end_time": "2022-12-05T15:08:17.516131",
     "exception": false,
     "start_time": "2022-12-05T15:08:17.473156",
     "status": "completed"
    },
    "tags": []
   },
   "outputs": [
    {
     "name": "stdout",
     "output_type": "stream",
     "text": [
      "eStmt_2021-01-29 (1)_pg3_tb0\n",
      "eStmt_2021-01-29 (1)_pg3_tb1\n",
      "eStmt_2021-01-29 (1)_pg4_tb0\n"
     ]
    }
   ],
   "source": [
    "for key in tables_2.keys():\n",
    "    print(key)"
   ]
  },
  {
   "cell_type": "code",
   "execution_count": 12,
   "id": "b0fb7b09",
   "metadata": {
    "execution": {
     "iopub.execute_input": "2022-12-05T15:08:17.552110Z",
     "iopub.status.busy": "2022-12-05T15:08:17.551111Z",
     "iopub.status.idle": "2022-12-05T15:08:17.576097Z",
     "shell.execute_reply": "2022-12-05T15:08:17.574099Z"
    },
    "papermill": {
     "duration": 0.045974,
     "end_time": "2022-12-05T15:08:17.579095",
     "exception": false,
     "start_time": "2022-12-05T15:08:17.533121",
     "status": "completed"
    },
    "tags": []
   },
   "outputs": [
    {
     "data": {
      "text/html": [
       "<div>\n",
       "<style scoped>\n",
       "    .dataframe tbody tr th:only-of-type {\n",
       "        vertical-align: middle;\n",
       "    }\n",
       "\n",
       "    .dataframe tbody tr th {\n",
       "        vertical-align: top;\n",
       "    }\n",
       "\n",
       "    .dataframe thead th {\n",
       "        text-align: right;\n",
       "    }\n",
       "</style>\n",
       "<table border=\"1\" class=\"dataframe\">\n",
       "  <thead>\n",
       "    <tr style=\"text-align: right;\">\n",
       "      <th></th>\n",
       "      <th>DATE</th>\n",
       "      <th>DESCRIPTION</th>\n",
       "      <th>AMOUNT</th>\n",
       "      <th>type</th>\n",
       "    </tr>\n",
       "  </thead>\n",
       "  <tbody>\n",
       "    <tr>\n",
       "      <th>0</th>\n",
       "      <td>01/12/21</td>\n",
       "      <td>AMERICAN EXPRESS DES:ACH PMT ID:M4010 INDN:Riv...</td>\n",
       "      <td>-1132.32</td>\n",
       "      <td>Withdrawals</td>\n",
       "    </tr>\n",
       "    <tr>\n",
       "      <th>1</th>\n",
       "      <td>01/13/21</td>\n",
       "      <td>Zelle Transfer Conf# 8ea678a04; Samuel Rivera</td>\n",
       "      <td>-200.00</td>\n",
       "      <td>Withdrawals</td>\n",
       "    </tr>\n",
       "    <tr>\n",
       "      <th>2</th>\n",
       "      <td>01/15/21</td>\n",
       "      <td>Zelle Transfer Conf# 607f94355; Jhonattan Chica</td>\n",
       "      <td>-800.00</td>\n",
       "      <td>Withdrawals</td>\n",
       "    </tr>\n",
       "    <tr>\n",
       "      <th>3</th>\n",
       "      <td>01/19/21</td>\n",
       "      <td>AMERICAN EXPRESS DES:ACH PMT ID:M1438 INDN:Riv...</td>\n",
       "      <td>-9000.00</td>\n",
       "      <td>Withdrawals</td>\n",
       "    </tr>\n",
       "    <tr>\n",
       "      <th>4</th>\n",
       "      <td>01/19/21</td>\n",
       "      <td>AUDI FINCL, TEL. DES:WEB DEBIT ID: PWBS8116261...</td>\n",
       "      <td>-865.93</td>\n",
       "      <td>Withdrawals</td>\n",
       "    </tr>\n",
       "    <tr>\n",
       "      <th>5</th>\n",
       "      <td>01/19/21</td>\n",
       "      <td>DES:Auto Pay ID:5000726658 INDN:River Luna CO ...</td>\n",
       "      <td>-583.88</td>\n",
       "      <td>Withdrawals</td>\n",
       "    </tr>\n",
       "    <tr>\n",
       "      <th>6</th>\n",
       "      <td>01/20/21</td>\n",
       "      <td>VERIZON WIRELESS DES:PAYMENTS ID:0325517165000...</td>\n",
       "      <td>-555.38</td>\n",
       "      <td>Withdrawals</td>\n",
       "    </tr>\n",
       "    <tr>\n",
       "      <th>7</th>\n",
       "      <td>01/25/21</td>\n",
       "      <td>Zelle Transfer Conf# 4dde984b8; Jhonattan Chica</td>\n",
       "      <td>-500.00</td>\n",
       "      <td>Withdrawals</td>\n",
       "    </tr>\n",
       "    <tr>\n",
       "      <th>8</th>\n",
       "      <td>01/26/21</td>\n",
       "      <td>Zelle Transfer Conf# 739b24f62; Carlos Zapata</td>\n",
       "      <td>-50.00</td>\n",
       "      <td>Withdrawals</td>\n",
       "    </tr>\n",
       "    <tr>\n",
       "      <th>9</th>\n",
       "      <td>01/28/21</td>\n",
       "      <td>Zelle Transfer Conf# 55e1711e2; Diego Reloj</td>\n",
       "      <td>-1000.00</td>\n",
       "      <td>Withdrawals</td>\n",
       "    </tr>\n",
       "    <tr>\n",
       "      <th>10</th>\n",
       "      <td>01/28/21</td>\n",
       "      <td>GM Financial DES:GMF Pymt ID:00112043538669 IN...</td>\n",
       "      <td>-718.42</td>\n",
       "      <td>Withdrawals</td>\n",
       "    </tr>\n",
       "    <tr>\n",
       "      <th>11</th>\n",
       "      <td>01/21/21</td>\n",
       "      <td>CHECKCARD 0120 MIDLANDCREDITMANA 877-2402377 C...</td>\n",
       "      <td>-100.00</td>\n",
       "      <td>Withdrawals</td>\n",
       "    </tr>\n",
       "  </tbody>\n",
       "</table>\n",
       "</div>"
      ],
      "text/plain": [
       "        DATE                                        DESCRIPTION   AMOUNT  \\\n",
       "0   01/12/21  AMERICAN EXPRESS DES:ACH PMT ID:M4010 INDN:Riv... -1132.32   \n",
       "1   01/13/21      Zelle Transfer Conf# 8ea678a04; Samuel Rivera  -200.00   \n",
       "2   01/15/21    Zelle Transfer Conf# 607f94355; Jhonattan Chica  -800.00   \n",
       "3   01/19/21  AMERICAN EXPRESS DES:ACH PMT ID:M1438 INDN:Riv... -9000.00   \n",
       "4   01/19/21  AUDI FINCL, TEL. DES:WEB DEBIT ID: PWBS8116261...  -865.93   \n",
       "5   01/19/21  DES:Auto Pay ID:5000726658 INDN:River Luna CO ...  -583.88   \n",
       "6   01/20/21  VERIZON WIRELESS DES:PAYMENTS ID:0325517165000...  -555.38   \n",
       "7   01/25/21    Zelle Transfer Conf# 4dde984b8; Jhonattan Chica  -500.00   \n",
       "8   01/26/21      Zelle Transfer Conf# 739b24f62; Carlos Zapata   -50.00   \n",
       "9   01/28/21        Zelle Transfer Conf# 55e1711e2; Diego Reloj -1000.00   \n",
       "10  01/28/21  GM Financial DES:GMF Pymt ID:00112043538669 IN...  -718.42   \n",
       "11  01/21/21  CHECKCARD 0120 MIDLANDCREDITMANA 877-2402377 C...  -100.00   \n",
       "\n",
       "           type  \n",
       "0   Withdrawals  \n",
       "1   Withdrawals  \n",
       "2   Withdrawals  \n",
       "3   Withdrawals  \n",
       "4   Withdrawals  \n",
       "5   Withdrawals  \n",
       "6   Withdrawals  \n",
       "7   Withdrawals  \n",
       "8   Withdrawals  \n",
       "9   Withdrawals  \n",
       "10  Withdrawals  \n",
       "11  Withdrawals  "
      ]
     },
     "execution_count": 12,
     "metadata": {},
     "output_type": "execute_result"
    }
   ],
   "source": [
    "tables_2[\"eStmt_2021-01-29 (1)_pg4_tb0\"]"
   ]
  },
  {
   "cell_type": "markdown",
   "id": "da59e1c0",
   "metadata": {
    "papermill": {
     "duration": 0.012993,
     "end_time": "2022-12-05T15:08:17.612077",
     "exception": false,
     "start_time": "2022-12-05T15:08:17.599084",
     "status": "completed"
    },
    "tags": []
   },
   "source": [
    "### Final Step and Compile all Information in 1 DataFrame"
   ]
  },
  {
   "cell_type": "code",
   "execution_count": 13,
   "id": "a5ff1d43",
   "metadata": {
    "execution": {
     "iopub.execute_input": "2022-12-05T15:08:17.651054Z",
     "iopub.status.busy": "2022-12-05T15:08:17.649055Z",
     "iopub.status.idle": "2022-12-05T15:08:17.685035Z",
     "shell.execute_reply": "2022-12-05T15:08:17.684034Z"
    },
    "papermill": {
     "duration": 0.060963,
     "end_time": "2022-12-05T15:08:17.690032",
     "exception": false,
     "start_time": "2022-12-05T15:08:17.629069",
     "status": "completed"
    },
    "tags": []
   },
   "outputs": [],
   "source": [
    "df_bank_of_america_final = pd.DataFrame()\n",
    "for key in tables_2.keys():\n",
    "    df_bank_of_america_final = pd.concat([df_bank_of_america_final, tables_2[key]], axis=0)\n",
    "    df_bank_of_america_final = df_bank_of_america_final.sort_values([\"type\", \"DATE\"])"
   ]
  },
  {
   "cell_type": "markdown",
   "id": "323aa350",
   "metadata": {
    "papermill": {
     "duration": 0.013991,
     "end_time": "2022-12-05T15:08:17.721013",
     "exception": false,
     "start_time": "2022-12-05T15:08:17.707022",
     "status": "completed"
    },
    "tags": []
   },
   "source": [
    "### Check Information"
   ]
  },
  {
   "cell_type": "code",
   "execution_count": 14,
   "id": "14b1df2c",
   "metadata": {
    "execution": {
     "iopub.execute_input": "2022-12-05T15:08:17.746999Z",
     "iopub.status.busy": "2022-12-05T15:08:17.746000Z",
     "iopub.status.idle": "2022-12-05T15:08:17.780979Z",
     "shell.execute_reply": "2022-12-05T15:08:17.779979Z"
    },
    "papermill": {
     "duration": 0.051971,
     "end_time": "2022-12-05T15:08:17.783978",
     "exception": false,
     "start_time": "2022-12-05T15:08:17.732007",
     "status": "completed"
    },
    "tags": []
   },
   "outputs": [
    {
     "data": {
      "text/html": [
       "<div>\n",
       "<style scoped>\n",
       "    .dataframe tbody tr th:only-of-type {\n",
       "        vertical-align: middle;\n",
       "    }\n",
       "\n",
       "    .dataframe tbody tr th {\n",
       "        vertical-align: top;\n",
       "    }\n",
       "\n",
       "    .dataframe thead th {\n",
       "        text-align: right;\n",
       "    }\n",
       "</style>\n",
       "<table border=\"1\" class=\"dataframe\">\n",
       "  <thead>\n",
       "    <tr style=\"text-align: right;\">\n",
       "      <th></th>\n",
       "      <th>DATE</th>\n",
       "      <th>DESCRIPTION</th>\n",
       "      <th>AMOUNT</th>\n",
       "      <th>type</th>\n",
       "    </tr>\n",
       "  </thead>\n",
       "  <tbody>\n",
       "    <tr>\n",
       "      <th>0</th>\n",
       "      <td>01/05/21</td>\n",
       "      <td>Zelle Transfer Conf# XXXXXXXXX; VALERIA LUNA G...</td>\n",
       "      <td>450.00</td>\n",
       "      <td>Income</td>\n",
       "    </tr>\n",
       "    <tr>\n",
       "      <th>1</th>\n",
       "      <td>01/07/21</td>\n",
       "      <td>Zelle Transfer Conf# T09LBJ3SM; CAMILO GOMEZ</td>\n",
       "      <td>180.00</td>\n",
       "      <td>Income</td>\n",
       "    </tr>\n",
       "    <tr>\n",
       "      <th>2</th>\n",
       "      <td>01/08/21</td>\n",
       "      <td>Zelle Transfer Conf# XXXXXXXXX; Jose R Puig</td>\n",
       "      <td>584.00</td>\n",
       "      <td>Income</td>\n",
       "    </tr>\n",
       "    <tr>\n",
       "      <th>3</th>\n",
       "      <td>01/12/21</td>\n",
       "      <td>BKOFAMERICA ATM 01/12 #000002974 DEPOSIT IVES ...</td>\n",
       "      <td>5000.00</td>\n",
       "      <td>Income</td>\n",
       "    </tr>\n",
       "    <tr>\n",
       "      <th>4</th>\n",
       "      <td>01/25/21</td>\n",
       "      <td>BKOFAMERICA ATM 01/25 #000007445 DEPOSIT WASHI...</td>\n",
       "      <td>1000.00</td>\n",
       "      <td>Income</td>\n",
       "    </tr>\n",
       "    <tr>\n",
       "      <th>5</th>\n",
       "      <td>01/28/21</td>\n",
       "      <td>BKOFAMERICA ATM 01/28 #000002120 DEPOSIT WILLI...</td>\n",
       "      <td>3180.00</td>\n",
       "      <td>Income</td>\n",
       "    </tr>\n",
       "    <tr>\n",
       "      <th>6</th>\n",
       "      <td>01/29/21</td>\n",
       "      <td>BKOFAMERICA ATM 01/28 #000004114 DEPOSIT IVES ...</td>\n",
       "      <td>1900.00</td>\n",
       "      <td>Income</td>\n",
       "    </tr>\n",
       "    <tr>\n",
       "      <th>0</th>\n",
       "      <td>01/04/21</td>\n",
       "      <td>Zelle Transfer Conf# ed9fff0a1; Mayerlin Ramirez</td>\n",
       "      <td>-1200.00</td>\n",
       "      <td>Withdrawals</td>\n",
       "    </tr>\n",
       "    <tr>\n",
       "      <th>1</th>\n",
       "      <td>01/04/21</td>\n",
       "      <td>Zelle Transfer Conf# 588ed71ee; Faelo</td>\n",
       "      <td>-300.00</td>\n",
       "      <td>Withdrawals</td>\n",
       "    </tr>\n",
       "    <tr>\n",
       "      <th>2</th>\n",
       "      <td>01/04/21</td>\n",
       "      <td>Zelle Transfer Conf# c109a56a8; Diana Baldor</td>\n",
       "      <td>-134.00</td>\n",
       "      <td>Withdrawals</td>\n",
       "    </tr>\n",
       "    <tr>\n",
       "      <th>3</th>\n",
       "      <td>01/04/21</td>\n",
       "      <td>AMERICAN EXPRESS DES:ACH PMT ID:W7762 INDN:Riv...</td>\n",
       "      <td>-2321.00</td>\n",
       "      <td>Withdrawals</td>\n",
       "    </tr>\n",
       "    <tr>\n",
       "      <th>4</th>\n",
       "      <td>01/04/21</td>\n",
       "      <td>St. Thomas Aquin DES:FACTS ID:000000116982732 ...</td>\n",
       "      <td>-1350.00</td>\n",
       "      <td>Withdrawals</td>\n",
       "    </tr>\n",
       "    <tr>\n",
       "      <th>5</th>\n",
       "      <td>01/04/21</td>\n",
       "      <td>BMW BANK DES:BMWFS PYMT ID:XXXXXXXXX INDN:Ermi...</td>\n",
       "      <td>-300.38</td>\n",
       "      <td>Withdrawals</td>\n",
       "    </tr>\n",
       "    <tr>\n",
       "      <th>6</th>\n",
       "      <td>01/05/21</td>\n",
       "      <td>TOYOTA FINANCIAL DES:LEASE_PAY ID:164530000102...</td>\n",
       "      <td>-508.85</td>\n",
       "      <td>Withdrawals</td>\n",
       "    </tr>\n",
       "    <tr>\n",
       "      <th>7</th>\n",
       "      <td>01/06/21</td>\n",
       "      <td>LEFRAKESTATES-CB DES:WEB PMTS ID:DNYYZ6 INDN:J...</td>\n",
       "      <td>-1978.72</td>\n",
       "      <td>Withdrawals</td>\n",
       "    </tr>\n",
       "    <tr>\n",
       "      <th>8</th>\n",
       "      <td>01/06/21</td>\n",
       "      <td>U.S. BANK N.A. DES:PAYMENT ID:000000597087476 ...</td>\n",
       "      <td>-1800.00</td>\n",
       "      <td>Withdrawals</td>\n",
       "    </tr>\n",
       "    <tr>\n",
       "      <th>9</th>\n",
       "      <td>01/06/21</td>\n",
       "      <td>SYNCHRONY BANK DES:PAYMENT ID:650172240208339 ...</td>\n",
       "      <td>-400.00</td>\n",
       "      <td>Withdrawals</td>\n",
       "    </tr>\n",
       "    <tr>\n",
       "      <th>10</th>\n",
       "      <td>01/11/21</td>\n",
       "      <td>Zelle Transfer Conf# 7871c30f7; Jhonattan Chica</td>\n",
       "      <td>-200.00</td>\n",
       "      <td>Withdrawals</td>\n",
       "    </tr>\n",
       "    <tr>\n",
       "      <th>11</th>\n",
       "      <td>01/11/21</td>\n",
       "      <td>Zelle Transfer Conf# 5af6779c6; Vanesa Garcia</td>\n",
       "      <td>-500.00</td>\n",
       "      <td>Withdrawals</td>\n",
       "    </tr>\n",
       "    <tr>\n",
       "      <th>0</th>\n",
       "      <td>01/12/21</td>\n",
       "      <td>AMERICAN EXPRESS DES:ACH PMT ID:M4010 INDN:Riv...</td>\n",
       "      <td>-1132.32</td>\n",
       "      <td>Withdrawals</td>\n",
       "    </tr>\n",
       "    <tr>\n",
       "      <th>1</th>\n",
       "      <td>01/13/21</td>\n",
       "      <td>Zelle Transfer Conf# 8ea678a04; Samuel Rivera</td>\n",
       "      <td>-200.00</td>\n",
       "      <td>Withdrawals</td>\n",
       "    </tr>\n",
       "    <tr>\n",
       "      <th>2</th>\n",
       "      <td>01/15/21</td>\n",
       "      <td>Zelle Transfer Conf# 607f94355; Jhonattan Chica</td>\n",
       "      <td>-800.00</td>\n",
       "      <td>Withdrawals</td>\n",
       "    </tr>\n",
       "    <tr>\n",
       "      <th>3</th>\n",
       "      <td>01/19/21</td>\n",
       "      <td>AMERICAN EXPRESS DES:ACH PMT ID:M1438 INDN:Riv...</td>\n",
       "      <td>-9000.00</td>\n",
       "      <td>Withdrawals</td>\n",
       "    </tr>\n",
       "    <tr>\n",
       "      <th>4</th>\n",
       "      <td>01/19/21</td>\n",
       "      <td>AUDI FINCL, TEL. DES:WEB DEBIT ID: PWBS8116261...</td>\n",
       "      <td>-865.93</td>\n",
       "      <td>Withdrawals</td>\n",
       "    </tr>\n",
       "    <tr>\n",
       "      <th>5</th>\n",
       "      <td>01/19/21</td>\n",
       "      <td>DES:Auto Pay ID:5000726658 INDN:River Luna CO ...</td>\n",
       "      <td>-583.88</td>\n",
       "      <td>Withdrawals</td>\n",
       "    </tr>\n",
       "    <tr>\n",
       "      <th>6</th>\n",
       "      <td>01/20/21</td>\n",
       "      <td>VERIZON WIRELESS DES:PAYMENTS ID:0325517165000...</td>\n",
       "      <td>-555.38</td>\n",
       "      <td>Withdrawals</td>\n",
       "    </tr>\n",
       "    <tr>\n",
       "      <th>11</th>\n",
       "      <td>01/21/21</td>\n",
       "      <td>CHECKCARD 0120 MIDLANDCREDITMANA 877-2402377 C...</td>\n",
       "      <td>-100.00</td>\n",
       "      <td>Withdrawals</td>\n",
       "    </tr>\n",
       "    <tr>\n",
       "      <th>7</th>\n",
       "      <td>01/25/21</td>\n",
       "      <td>Zelle Transfer Conf# 4dde984b8; Jhonattan Chica</td>\n",
       "      <td>-500.00</td>\n",
       "      <td>Withdrawals</td>\n",
       "    </tr>\n",
       "    <tr>\n",
       "      <th>8</th>\n",
       "      <td>01/26/21</td>\n",
       "      <td>Zelle Transfer Conf# 739b24f62; Carlos Zapata</td>\n",
       "      <td>-50.00</td>\n",
       "      <td>Withdrawals</td>\n",
       "    </tr>\n",
       "    <tr>\n",
       "      <th>9</th>\n",
       "      <td>01/28/21</td>\n",
       "      <td>Zelle Transfer Conf# 55e1711e2; Diego Reloj</td>\n",
       "      <td>-1000.00</td>\n",
       "      <td>Withdrawals</td>\n",
       "    </tr>\n",
       "    <tr>\n",
       "      <th>10</th>\n",
       "      <td>01/28/21</td>\n",
       "      <td>GM Financial DES:GMF Pymt ID:00112043538669 IN...</td>\n",
       "      <td>-718.42</td>\n",
       "      <td>Withdrawals</td>\n",
       "    </tr>\n",
       "  </tbody>\n",
       "</table>\n",
       "</div>"
      ],
      "text/plain": [
       "        DATE                                        DESCRIPTION   AMOUNT  \\\n",
       "0   01/05/21  Zelle Transfer Conf# XXXXXXXXX; VALERIA LUNA G...   450.00   \n",
       "1   01/07/21       Zelle Transfer Conf# T09LBJ3SM; CAMILO GOMEZ   180.00   \n",
       "2   01/08/21        Zelle Transfer Conf# XXXXXXXXX; Jose R Puig   584.00   \n",
       "3   01/12/21  BKOFAMERICA ATM 01/12 #000002974 DEPOSIT IVES ...  5000.00   \n",
       "4   01/25/21  BKOFAMERICA ATM 01/25 #000007445 DEPOSIT WASHI...  1000.00   \n",
       "5   01/28/21  BKOFAMERICA ATM 01/28 #000002120 DEPOSIT WILLI...  3180.00   \n",
       "6   01/29/21  BKOFAMERICA ATM 01/28 #000004114 DEPOSIT IVES ...  1900.00   \n",
       "0   01/04/21   Zelle Transfer Conf# ed9fff0a1; Mayerlin Ramirez -1200.00   \n",
       "1   01/04/21              Zelle Transfer Conf# 588ed71ee; Faelo  -300.00   \n",
       "2   01/04/21       Zelle Transfer Conf# c109a56a8; Diana Baldor  -134.00   \n",
       "3   01/04/21  AMERICAN EXPRESS DES:ACH PMT ID:W7762 INDN:Riv... -2321.00   \n",
       "4   01/04/21  St. Thomas Aquin DES:FACTS ID:000000116982732 ... -1350.00   \n",
       "5   01/04/21  BMW BANK DES:BMWFS PYMT ID:XXXXXXXXX INDN:Ermi...  -300.38   \n",
       "6   01/05/21  TOYOTA FINANCIAL DES:LEASE_PAY ID:164530000102...  -508.85   \n",
       "7   01/06/21  LEFRAKESTATES-CB DES:WEB PMTS ID:DNYYZ6 INDN:J... -1978.72   \n",
       "8   01/06/21  U.S. BANK N.A. DES:PAYMENT ID:000000597087476 ... -1800.00   \n",
       "9   01/06/21  SYNCHRONY BANK DES:PAYMENT ID:650172240208339 ...  -400.00   \n",
       "10  01/11/21    Zelle Transfer Conf# 7871c30f7; Jhonattan Chica  -200.00   \n",
       "11  01/11/21      Zelle Transfer Conf# 5af6779c6; Vanesa Garcia  -500.00   \n",
       "0   01/12/21  AMERICAN EXPRESS DES:ACH PMT ID:M4010 INDN:Riv... -1132.32   \n",
       "1   01/13/21      Zelle Transfer Conf# 8ea678a04; Samuel Rivera  -200.00   \n",
       "2   01/15/21    Zelle Transfer Conf# 607f94355; Jhonattan Chica  -800.00   \n",
       "3   01/19/21  AMERICAN EXPRESS DES:ACH PMT ID:M1438 INDN:Riv... -9000.00   \n",
       "4   01/19/21  AUDI FINCL, TEL. DES:WEB DEBIT ID: PWBS8116261...  -865.93   \n",
       "5   01/19/21  DES:Auto Pay ID:5000726658 INDN:River Luna CO ...  -583.88   \n",
       "6   01/20/21  VERIZON WIRELESS DES:PAYMENTS ID:0325517165000...  -555.38   \n",
       "11  01/21/21  CHECKCARD 0120 MIDLANDCREDITMANA 877-2402377 C...  -100.00   \n",
       "7   01/25/21    Zelle Transfer Conf# 4dde984b8; Jhonattan Chica  -500.00   \n",
       "8   01/26/21      Zelle Transfer Conf# 739b24f62; Carlos Zapata   -50.00   \n",
       "9   01/28/21        Zelle Transfer Conf# 55e1711e2; Diego Reloj -1000.00   \n",
       "10  01/28/21  GM Financial DES:GMF Pymt ID:00112043538669 IN...  -718.42   \n",
       "\n",
       "           type  \n",
       "0        Income  \n",
       "1        Income  \n",
       "2        Income  \n",
       "3        Income  \n",
       "4        Income  \n",
       "5        Income  \n",
       "6        Income  \n",
       "0   Withdrawals  \n",
       "1   Withdrawals  \n",
       "2   Withdrawals  \n",
       "3   Withdrawals  \n",
       "4   Withdrawals  \n",
       "5   Withdrawals  \n",
       "6   Withdrawals  \n",
       "7   Withdrawals  \n",
       "8   Withdrawals  \n",
       "9   Withdrawals  \n",
       "10  Withdrawals  \n",
       "11  Withdrawals  \n",
       "0   Withdrawals  \n",
       "1   Withdrawals  \n",
       "2   Withdrawals  \n",
       "3   Withdrawals  \n",
       "4   Withdrawals  \n",
       "5   Withdrawals  \n",
       "6   Withdrawals  \n",
       "11  Withdrawals  \n",
       "7   Withdrawals  \n",
       "8   Withdrawals  \n",
       "9   Withdrawals  \n",
       "10  Withdrawals  "
      ]
     },
     "execution_count": 14,
     "metadata": {},
     "output_type": "execute_result"
    }
   ],
   "source": [
    "df_bank_of_america_final"
   ]
  },
  {
   "cell_type": "code",
   "execution_count": 15,
   "id": "eabdcfcc",
   "metadata": {
    "execution": {
     "iopub.execute_input": "2022-12-05T15:08:17.816958Z",
     "iopub.status.busy": "2022-12-05T15:08:17.815960Z",
     "iopub.status.idle": "2022-12-05T15:08:17.841945Z",
     "shell.execute_reply": "2022-12-05T15:08:17.840945Z"
    },
    "papermill": {
     "duration": 0.049971,
     "end_time": "2022-12-05T15:08:17.845942",
     "exception": false,
     "start_time": "2022-12-05T15:08:17.795971",
     "status": "completed"
    },
    "tags": []
   },
   "outputs": [
    {
     "data": {
      "text/plain": [
       "12294.0"
      ]
     },
     "execution_count": 15,
     "metadata": {},
     "output_type": "execute_result"
    }
   ],
   "source": [
    "df_bank_of_america_final[df_bank_of_america_final.type == \"Income\"].AMOUNT.sum()"
   ]
  },
  {
   "cell_type": "code",
   "execution_count": 16,
   "id": "ddb2ba54",
   "metadata": {
    "execution": {
     "iopub.execute_input": "2022-12-05T15:08:17.886918Z",
     "iopub.status.busy": "2022-12-05T15:08:17.885920Z",
     "iopub.status.idle": "2022-12-05T15:08:17.906911Z",
     "shell.execute_reply": "2022-12-05T15:08:17.904909Z"
    },
    "papermill": {
     "duration": 0.043974,
     "end_time": "2022-12-05T15:08:17.910905",
     "exception": false,
     "start_time": "2022-12-05T15:08:17.866931",
     "status": "completed"
    },
    "tags": []
   },
   "outputs": [
    {
     "data": {
      "text/plain": [
       "-26498.879999999997"
      ]
     },
     "execution_count": 16,
     "metadata": {},
     "output_type": "execute_result"
    }
   ],
   "source": [
    "df_bank_of_america_final[df_bank_of_america_final.type == \"Withdrawals\"].AMOUNT.sum()"
   ]
  },
  {
   "cell_type": "markdown",
   "id": "811e0541",
   "metadata": {
    "papermill": {
     "duration": 0.019988,
     "end_time": "2022-12-05T15:08:17.951881",
     "exception": false,
     "start_time": "2022-12-05T15:08:17.931893",
     "status": "completed"
    },
    "tags": []
   },
   "source": [
    "## Delete Names"
   ]
  },
  {
   "cell_type": "code",
   "execution_count": 17,
   "id": "d7145c17",
   "metadata": {
    "execution": {
     "iopub.execute_input": "2022-12-05T15:08:17.999856Z",
     "iopub.status.busy": "2022-12-05T15:08:17.998855Z",
     "iopub.status.idle": "2022-12-05T15:08:18.015845Z",
     "shell.execute_reply": "2022-12-05T15:08:18.013847Z"
    },
    "papermill": {
     "duration": 0.043974,
     "end_time": "2022-12-05T15:08:18.019843",
     "exception": false,
     "start_time": "2022-12-05T15:08:17.975869",
     "status": "completed"
    },
    "tags": []
   },
   "outputs": [],
   "source": [
    "names = [\"VALERIA LUNA GONZALEZ\",\n",
    "\"CAMILO GOMEZ\",\n",
    "\"Jose R Puig\",\n",
    "\"Mayerlin Ramirez\",\n",
    "\"Faelo\",\n",
    "\"Diana Baldor\",\n",
    "\"Juan Rivera\",\n",
    "\"Erminia Luna\",\n",
    "\"JUAN RIVERA\",\n",
    "\"JuanRivera\",\n",
    "\"LUNA,VALERIA\",\n",
    "\"LUNA, VALERIA\",\n",
    "\"Jhonattan Chica\",\n",
    "\"Vanesa Garcia\", \n",
    "\"Samuel Rivera\", \n",
    "\"Jhonattan Chica\",\n",
    "\"VALERIA LUNA GONZALEZ\", \n",
    "\"River Luna\",\n",
    "\"Jhonattan Chica\",\n",
    "\"Carlos Zapata\", \n",
    "\"Diego Reloj\"]"
   ]
  },
  {
   "cell_type": "code",
   "execution_count": 18,
   "id": "01bce5ed",
   "metadata": {
    "execution": {
     "iopub.execute_input": "2022-12-05T15:08:18.064817Z",
     "iopub.status.busy": "2022-12-05T15:08:18.062818Z",
     "iopub.status.idle": "2022-12-05T15:08:18.092801Z",
     "shell.execute_reply": "2022-12-05T15:08:18.091801Z"
    },
    "papermill": {
     "duration": 0.056965,
     "end_time": "2022-12-05T15:08:18.097798",
     "exception": false,
     "start_time": "2022-12-05T15:08:18.040833",
     "status": "completed"
    },
    "tags": []
   },
   "outputs": [],
   "source": [
    "for name in names:\n",
    "    df_bank_of_america_final.DESCRIPTION = df_bank_of_america_final.DESCRIPTION.apply(lambda x: x.replace(name, \"#####\"))"
   ]
  },
  {
   "cell_type": "markdown",
   "id": "e5f9a96b",
   "metadata": {
    "papermill": {
     "duration": 0.019984,
     "end_time": "2022-12-05T15:08:18.138774",
     "exception": false,
     "start_time": "2022-12-05T15:08:18.118790",
     "status": "completed"
    },
    "tags": []
   },
   "source": [
    "## Save Output"
   ]
  },
  {
   "cell_type": "code",
   "execution_count": 19,
   "id": "5cc0775e",
   "metadata": {
    "execution": {
     "iopub.execute_input": "2022-12-05T15:08:18.182264Z",
     "iopub.status.busy": "2022-12-05T15:08:18.182264Z",
     "iopub.status.idle": "2022-12-05T15:08:18.201252Z",
     "shell.execute_reply": "2022-12-05T15:08:18.200253Z"
    },
    "papermill": {
     "duration": 0.047488,
     "end_time": "2022-12-05T15:08:18.205252",
     "exception": false,
     "start_time": "2022-12-05T15:08:18.157764",
     "status": "completed"
    },
    "tags": []
   },
   "outputs": [],
   "source": [
    "df_bank_of_america_final[\"bank\"] = \"Bank Of America\"\n",
    "folder_output = \"output_script\"\n",
    "file = \"bank_of_america_output.csv\""
   ]
  },
  {
   "cell_type": "code",
   "execution_count": 20,
   "id": "291b99f2",
   "metadata": {
    "execution": {
     "iopub.execute_input": "2022-12-05T15:08:18.247226Z",
     "iopub.status.busy": "2022-12-05T15:08:18.245228Z",
     "iopub.status.idle": "2022-12-05T15:08:18.265216Z",
     "shell.execute_reply": "2022-12-05T15:08:18.263217Z"
    },
    "papermill": {
     "duration": 0.044974,
     "end_time": "2022-12-05T15:08:18.269214",
     "exception": false,
     "start_time": "2022-12-05T15:08:18.224240",
     "status": "completed"
    },
    "tags": []
   },
   "outputs": [],
   "source": [
    "df_bank_of_america_final.to_csv(os.path.join(path,folder_output, file), index=False, encoding=\"utf8\")"
   ]
  }
 ],
 "metadata": {
  "kernelspec": {
   "display_name": "venv",
   "language": "python",
   "name": "python3"
  },
  "language_info": {
   "codemirror_mode": {
    "name": "ipython",
    "version": 3
   },
   "file_extension": ".py",
   "mimetype": "text/x-python",
   "name": "python",
   "nbconvert_exporter": "python",
   "pygments_lexer": "ipython3",
   "version": "3.10.5 (tags/v3.10.5:f377153, Jun  6 2022, 16:14:13) [MSC v.1929 64 bit (AMD64)]"
  },
  "papermill": {
   "default_parameters": {},
   "duration": 5.264455,
   "end_time": "2022-12-05T15:08:18.746883",
   "environment_variables": {},
   "exception": null,
   "input_path": "bank_of_america_case.ipynb",
   "output_path": "bank_of_america_case.ipynb",
   "parameters": {},
   "start_time": "2022-12-05T15:08:13.482428",
   "version": "2.4.0"
  },
  "vscode": {
   "interpreter": {
    "hash": "b7a37235a2a0b468d2679cea264852352efd4af2e267d85e36c7b7619b001185"
   }
  }
 },
 "nbformat": 4,
 "nbformat_minor": 5
}
