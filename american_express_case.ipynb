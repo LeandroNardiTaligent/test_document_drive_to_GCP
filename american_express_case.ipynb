{
 "cells": [
  {
   "cell_type": "markdown",
   "id": "c62cd06d",
   "metadata": {
    "papermill": {
     "duration": 0.009993,
     "end_time": "2022-12-05T15:08:21.143778",
     "exception": false,
     "start_time": "2022-12-05T15:08:21.133785",
     "status": "completed"
    },
    "tags": []
   },
   "source": [
    "## <center> American Express Case </center>"
   ]
  },
  {
   "cell_type": "markdown",
   "id": "ae4d2058",
   "metadata": {
    "papermill": {
     "duration": 0.009996,
     "end_time": "2022-12-05T15:08:21.166768",
     "exception": false,
     "start_time": "2022-12-05T15:08:21.156772",
     "status": "completed"
    },
    "tags": []
   },
   "source": [
    "### Import Data and Storage in Hash Table"
   ]
  },
  {
   "cell_type": "code",
   "execution_count": 40,
   "id": "ad50b285",
   "metadata": {
    "execution": {
     "iopub.execute_input": "2022-12-05T15:08:21.195750Z",
     "iopub.status.busy": "2022-12-05T15:08:21.195750Z",
     "iopub.status.idle": "2022-12-05T15:08:21.986769Z",
     "shell.execute_reply": "2022-12-05T15:08:21.984781Z"
    },
    "papermill": {
     "duration": 0.809008,
     "end_time": "2022-12-05T15:08:21.988767",
     "exception": false,
     "start_time": "2022-12-05T15:08:21.179759",
     "status": "completed"
    },
    "tags": []
   },
   "outputs": [],
   "source": [
    "import numpy as np\n",
    "import pandas as pd\n",
    "import os\n",
    "import re"
   ]
  },
  {
   "cell_type": "code",
   "execution_count": 41,
   "id": "5602bbe9",
   "metadata": {
    "execution": {
     "iopub.execute_input": "2022-12-05T15:08:22.006758Z",
     "iopub.status.busy": "2022-12-05T15:08:22.005759Z",
     "iopub.status.idle": "2022-12-05T15:08:22.018269Z",
     "shell.execute_reply": "2022-12-05T15:08:22.016271Z"
    },
    "papermill": {
     "duration": 0.023504,
     "end_time": "2022-12-05T15:08:22.020267",
     "exception": false,
     "start_time": "2022-12-05T15:08:21.996763",
     "status": "completed"
    },
    "tags": []
   },
   "outputs": [],
   "source": [
    "#Variables\n",
    "FLAG_TABLE = False"
   ]
  },
  {
   "cell_type": "code",
   "execution_count": 42,
   "id": "6e4e961c",
   "metadata": {
    "execution": {
     "iopub.execute_input": "2022-12-05T15:08:22.041256Z",
     "iopub.status.busy": "2022-12-05T15:08:22.040257Z",
     "iopub.status.idle": "2022-12-05T15:08:22.050252Z",
     "shell.execute_reply": "2022-12-05T15:08:22.048252Z"
    },
    "papermill": {
     "duration": 0.024985,
     "end_time": "2022-12-05T15:08:22.053248",
     "exception": false,
     "start_time": "2022-12-05T15:08:22.028263",
     "status": "completed"
    },
    "tags": []
   },
   "outputs": [],
   "source": [
    "path = os.getcwd()\n",
    "folder = \"output_amex_documentai\"\n",
    "folder_file = \"file_2\"\n",
    "files = os.listdir(os.path.join(folder, folder_file))"
   ]
  },
  {
   "cell_type": "code",
   "execution_count": 43,
   "id": "dad5e1b7",
   "metadata": {
    "execution": {
     "iopub.execute_input": "2022-12-05T15:08:22.071240Z",
     "iopub.status.busy": "2022-12-05T15:08:22.070243Z",
     "iopub.status.idle": "2022-12-05T15:08:22.113215Z",
     "shell.execute_reply": "2022-12-05T15:08:22.112215Z"
    },
    "papermill": {
     "duration": 0.05497,
     "end_time": "2022-12-05T15:08:22.116214",
     "exception": false,
     "start_time": "2022-12-05T15:08:22.061244",
     "status": "completed"
    },
    "tags": []
   },
   "outputs": [],
   "source": [
    "dic_data = {}\n",
    "for file in files:\n",
    "    data = pd.read_csv(os.path.join(path, folder, folder_file, file))\n",
    "    p = \"(pg\\d\\w+)\"\n",
    "    regex_p= re.compile(p)\n",
    "    dic_key = regex_p.search(file).group()\n",
    "    dic_data[dic_key] = data"
   ]
  },
  {
   "cell_type": "code",
   "execution_count": 44,
   "id": "ff86871f",
   "metadata": {
    "execution": {
     "iopub.execute_input": "2022-12-05T15:08:22.133203Z",
     "iopub.status.busy": "2022-12-05T15:08:22.132206Z",
     "iopub.status.idle": "2022-12-05T15:08:22.144155Z",
     "shell.execute_reply": "2022-12-05T15:08:22.143167Z"
    },
    "papermill": {
     "duration": 0.024945,
     "end_time": "2022-12-05T15:08:22.148153",
     "exception": false,
     "start_time": "2022-12-05T15:08:22.123208",
     "status": "completed"
    },
    "tags": []
   },
   "outputs": [
    {
     "name": "stdout",
     "output_type": "stream",
     "text": [
      "pg1_tb0\n",
      "pg1_tb1\n",
      "pg1_tb2\n",
      "pg3_tb0\n",
      "pg3_tb1\n",
      "pg3_tb2\n",
      "pg3_tb3\n",
      "pg3_tb4\n",
      "pg3_tb5\n",
      "pg4_tb0\n",
      "pg4_tb1\n",
      "pg4_tb2\n"
     ]
    }
   ],
   "source": [
    "for key in dic_data.keys():\n",
    "    print(key)"
   ]
  },
  {
   "cell_type": "code",
   "execution_count": 51,
   "id": "9201c62a",
   "metadata": {
    "execution": {
     "iopub.execute_input": "2022-12-05T15:08:22.173149Z",
     "iopub.status.busy": "2022-12-05T15:08:22.172139Z",
     "iopub.status.idle": "2022-12-05T15:08:22.206766Z",
     "shell.execute_reply": "2022-12-05T15:08:22.205768Z"
    },
    "papermill": {
     "duration": 0.049618,
     "end_time": "2022-12-05T15:08:22.208767",
     "exception": false,
     "start_time": "2022-12-05T15:08:22.159149",
     "status": "completed"
    },
    "tags": []
   },
   "outputs": [
    {
     "data": {
      "text/html": [
       "<div>\n",
       "<style scoped>\n",
       "    .dataframe tbody tr th:only-of-type {\n",
       "        vertical-align: middle;\n",
       "    }\n",
       "\n",
       "    .dataframe tbody tr th {\n",
       "        vertical-align: top;\n",
       "    }\n",
       "\n",
       "    .dataframe thead th {\n",
       "        text-align: right;\n",
       "    }\n",
       "</style>\n",
       "<table border=\"1\" class=\"dataframe\">\n",
       "  <thead>\n",
       "    <tr style=\"text-align: right;\">\n",
       "      <th></th>\n",
       "      <th>Detail</th>\n",
       "      <th>Continued *Indicates posting date</th>\n",
       "      <th>Unnamed: 2</th>\n",
       "      <th>- denotes Pay Over Time and/or Cash Advance activity</th>\n",
       "    </tr>\n",
       "  </thead>\n",
       "  <tbody>\n",
       "    <tr>\n",
       "      <th>0</th>\n",
       "      <td>NaN</td>\n",
       "      <td>NaN</td>\n",
       "      <td>NaN</td>\n",
       "      <td>Amount</td>\n",
       "    </tr>\n",
       "    <tr>\n",
       "      <th>1</th>\n",
       "      <td>11/21/21</td>\n",
       "      <td>0200 FOREVER 21 0000 954-837-0335</td>\n",
       "      <td>SUNRISE</td>\n",
       "      <td>FL $45.98</td>\n",
       "    </tr>\n",
       "    <tr>\n",
       "      <th>2</th>\n",
       "      <td>11/26/21</td>\n",
       "      <td>SAM'S CLUB 6341 6341 WHOLESALE CLUB</td>\n",
       "      <td>SUNRISE</td>\n",
       "      <td>FL $168.19</td>\n",
       "    </tr>\n",
       "    <tr>\n",
       "      <th>3</th>\n",
       "      <td>11/29/21</td>\n",
       "      <td>276 INDIAN TRCE 57543608806 9542178456</td>\n",
       "      <td>WESTON</td>\n",
       "      <td>FL $43.16</td>\n",
       "    </tr>\n",
       "    <tr>\n",
       "      <th>4</th>\n",
       "      <td>SOFIA Card</td>\n",
       "      <td>GRIMBLAT Ending 0-41021</td>\n",
       "      <td>NaN</td>\n",
       "      <td>Amount</td>\n",
       "    </tr>\n",
       "    <tr>\n",
       "      <th>5</th>\n",
       "      <td>11/18/21</td>\n",
       "      <td>PUBLIX #583 000000583 9543844190</td>\n",
       "      <td>WESTON</td>\n",
       "      <td>FL $18.55</td>\n",
       "    </tr>\n",
       "    <tr>\n",
       "      <th>6</th>\n",
       "      <td>11/21/21</td>\n",
       "      <td>SHIBUYA SUSHI ART WESTON 0000 954-756-8255</td>\n",
       "      <td>FORT LAUDERDA</td>\n",
       "      <td>FL $69.66</td>\n",
       "    </tr>\n",
       "  </tbody>\n",
       "</table>\n",
       "</div>"
      ],
      "text/plain": [
       "       Detail           Continued *Indicates posting date     Unnamed: 2  \\\n",
       "0         NaN                                         NaN            NaN   \n",
       "1    11/21/21           0200 FOREVER 21 0000 954-837-0335        SUNRISE   \n",
       "2    11/26/21         SAM'S CLUB 6341 6341 WHOLESALE CLUB        SUNRISE   \n",
       "3    11/29/21      276 INDIAN TRCE 57543608806 9542178456         WESTON   \n",
       "4  SOFIA Card                     GRIMBLAT Ending 0-41021            NaN   \n",
       "5    11/18/21            PUBLIX #583 000000583 9543844190         WESTON   \n",
       "6    11/21/21  SHIBUYA SUSHI ART WESTON 0000 954-756-8255  FORT LAUDERDA   \n",
       "\n",
       "  - denotes Pay Over Time and/or Cash Advance activity  \n",
       "0                                             Amount    \n",
       "1                                          FL $45.98    \n",
       "2                                         FL $168.19    \n",
       "3                                          FL $43.16    \n",
       "4                                             Amount    \n",
       "5                                          FL $18.55    \n",
       "6                                          FL $69.66    "
      ]
     },
     "execution_count": 51,
     "metadata": {},
     "output_type": "execute_result"
    }
   ],
   "source": [
    "dic_data[\"pg4_tb1\"]"
   ]
  },
  {
   "cell_type": "markdown",
   "id": "7ef9f5ac",
   "metadata": {
    "papermill": {
     "duration": 0.006996,
     "end_time": "2022-12-05T15:08:22.224757",
     "exception": false,
     "start_time": "2022-12-05T15:08:22.217761",
     "status": "completed"
    },
    "tags": []
   },
   "source": [
    "### Separate used table and Storage in Another Dic"
   ]
  },
  {
   "cell_type": "code",
   "execution_count": 7,
   "id": "d93801d0",
   "metadata": {
    "execution": {
     "iopub.execute_input": "2022-12-05T15:08:22.248743Z",
     "iopub.status.busy": "2022-12-05T15:08:22.248743Z",
     "iopub.status.idle": "2022-12-05T15:08:22.270767Z",
     "shell.execute_reply": "2022-12-05T15:08:22.268768Z"
    },
    "papermill": {
     "duration": 0.035014,
     "end_time": "2022-12-05T15:08:22.272765",
     "exception": false,
     "start_time": "2022-12-05T15:08:22.237751",
     "status": "completed"
    },
    "tags": []
   },
   "outputs": [],
   "source": [
    "tables = {}\n",
    "for key in dic_data.keys():\n",
    "    if len(dic_data[key].columns) == 4 and \"Balance\" not in dic_data[key].columns:\n",
    "        tables[key] = dic_data[key] \n",
    "    # elif len(dic_data[key].columns) == 3 and \"Amount\" in dic_data[key].columns:\n",
    "    #     tables[key] = dic_data[key]\n"
   ]
  },
  {
   "cell_type": "code",
   "execution_count": 8,
   "id": "705c99e0",
   "metadata": {
    "execution": {
     "iopub.execute_input": "2022-12-05T15:08:22.291754Z",
     "iopub.status.busy": "2022-12-05T15:08:22.290755Z",
     "iopub.status.idle": "2022-12-05T15:08:22.301750Z",
     "shell.execute_reply": "2022-12-05T15:08:22.299758Z"
    },
    "papermill": {
     "duration": 0.023982,
     "end_time": "2022-12-05T15:08:22.304746",
     "exception": false,
     "start_time": "2022-12-05T15:08:22.280764",
     "status": "completed"
    },
    "tags": []
   },
   "outputs": [
    {
     "name": "stdout",
     "output_type": "stream",
     "text": [
      "2022-08-07_pg3_tb0\n",
      "2022-08-07_pg4_tb0\n"
     ]
    }
   ],
   "source": [
    "for key in tables.keys():\n",
    "    print(key)"
   ]
  },
  {
   "cell_type": "code",
   "execution_count": 9,
   "id": "520356a0",
   "metadata": {
    "execution": {
     "iopub.execute_input": "2022-12-05T15:08:22.323737Z",
     "iopub.status.busy": "2022-12-05T15:08:22.322738Z",
     "iopub.status.idle": "2022-12-05T15:08:22.348142Z",
     "shell.execute_reply": "2022-12-05T15:08:22.347155Z"
    },
    "papermill": {
     "duration": 0.039399,
     "end_time": "2022-12-05T15:08:22.352141",
     "exception": false,
     "start_time": "2022-12-05T15:08:22.312742",
     "status": "completed"
    },
    "tags": []
   },
   "outputs": [
    {
     "data": {
      "text/html": [
       "<div>\n",
       "<style scoped>\n",
       "    .dataframe tbody tr th:only-of-type {\n",
       "        vertical-align: middle;\n",
       "    }\n",
       "\n",
       "    .dataframe tbody tr th {\n",
       "        vertical-align: top;\n",
       "    }\n",
       "\n",
       "    .dataframe thead th {\n",
       "        text-align: right;\n",
       "    }\n",
       "</style>\n",
       "<table border=\"1\" class=\"dataframe\">\n",
       "  <thead>\n",
       "    <tr style=\"text-align: right;\">\n",
       "      <th></th>\n",
       "      <th>Card</th>\n",
       "      <th>Ending 1-62000</th>\n",
       "      <th>Unnamed: 2</th>\n",
       "      <th>Foreign Spend Amount</th>\n",
       "    </tr>\n",
       "  </thead>\n",
       "  <tbody>\n",
       "    <tr>\n",
       "      <th>0</th>\n",
       "      <td>07/09/22</td>\n",
       "      <td>PARKING PAY PHONE 0814 305-373-6789</td>\n",
       "      <td>MIAMI</td>\n",
       "      <td>FL $2.27</td>\n",
       "    </tr>\n",
       "    <tr>\n",
       "      <th>1</th>\n",
       "      <td>07/10/22</td>\n",
       "      <td>TARGET 010389 09100010389 612-3044357</td>\n",
       "      <td>NORTH MIAMI B</td>\n",
       "      <td>FL $37.29</td>\n",
       "    </tr>\n",
       "    <tr>\n",
       "      <th>2</th>\n",
       "      <td>07/10/22</td>\n",
       "      <td>STARBUCKS STORE 6191 FAST FOOD RESTAURANT</td>\n",
       "      <td>NORTH MIAMI B</td>\n",
       "      <td>FL $15.46</td>\n",
       "    </tr>\n",
       "    <tr>\n",
       "      <th>3</th>\n",
       "      <td>07/10/22</td>\n",
       "      <td>PUBLIX #1017 000001017 8636881188</td>\n",
       "      <td>NORTH MIAMI</td>\n",
       "      <td>FL $25.34</td>\n",
       "    </tr>\n",
       "    <tr>\n",
       "      <th>4</th>\n",
       "      <td>07/10/22</td>\n",
       "      <td>PARKING PAY PHONE 0814 305-373-6789</td>\n",
       "      <td>MIAMI FL</td>\n",
       "      <td>$2.27</td>\n",
       "    </tr>\n",
       "    <tr>\n",
       "      <th>5</th>\n",
       "      <td>07/11/22</td>\n",
       "      <td>FAROFA OF NORTH MIAMI 0000 305-947-3098</td>\n",
       "      <td>NORTH MIAMI</td>\n",
       "      <td>FL $29.84</td>\n",
       "    </tr>\n",
       "    <tr>\n",
       "      <th>6</th>\n",
       "      <td>07/12/22</td>\n",
       "      <td>PUBLIX 3059313761</td>\n",
       "      <td>MIAMI</td>\n",
       "      <td>FL $14.66</td>\n",
       "    </tr>\n",
       "    <tr>\n",
       "      <th>7</th>\n",
       "      <td>07/12/22</td>\n",
       "      <td>PREMIER ONE LOW PRICE 305-948-0740</td>\n",
       "      <td>NORTH MIAMI</td>\n",
       "      <td>FL $37.32</td>\n",
       "    </tr>\n",
       "    <tr>\n",
       "      <th>8</th>\n",
       "      <td>07/17/22</td>\n",
       "      <td>UBER EATS 8005928996</td>\n",
       "      <td>SAN FRANSISCO</td>\n",
       "      <td>CA $50.91</td>\n",
       "    </tr>\n",
       "    <tr>\n",
       "      <th>9</th>\n",
       "      <td>07/17/22</td>\n",
       "      <td>UBER TRIP HELP.UBER.COM</td>\n",
       "      <td>SAN FRANCISCO</td>\n",
       "      <td>775.99 Mexican Pesos $37.70</td>\n",
       "    </tr>\n",
       "  </tbody>\n",
       "</table>\n",
       "</div>"
      ],
      "text/plain": [
       "       Card                             Ending 1-62000     Unnamed: 2  \\\n",
       "0  07/09/22        PARKING PAY PHONE 0814 305-373-6789          MIAMI   \n",
       "1  07/10/22      TARGET 010389 09100010389 612-3044357  NORTH MIAMI B   \n",
       "2  07/10/22  STARBUCKS STORE 6191 FAST FOOD RESTAURANT  NORTH MIAMI B   \n",
       "3  07/10/22          PUBLIX #1017 000001017 8636881188    NORTH MIAMI   \n",
       "4  07/10/22        PARKING PAY PHONE 0814 305-373-6789       MIAMI FL   \n",
       "5  07/11/22    FAROFA OF NORTH MIAMI 0000 305-947-3098    NORTH MIAMI   \n",
       "6  07/12/22                          PUBLIX 3059313761          MIAMI   \n",
       "7  07/12/22         PREMIER ONE LOW PRICE 305-948-0740    NORTH MIAMI   \n",
       "8  07/17/22                       UBER EATS 8005928996  SAN FRANSISCO   \n",
       "9  07/17/22                    UBER TRIP HELP.UBER.COM  SAN FRANCISCO   \n",
       "\n",
       "          Foreign Spend Amount  \n",
       "0                     FL $2.27  \n",
       "1                    FL $37.29  \n",
       "2                    FL $15.46  \n",
       "3                    FL $25.34  \n",
       "4                        $2.27  \n",
       "5                    FL $29.84  \n",
       "6                    FL $14.66  \n",
       "7                    FL $37.32  \n",
       "8                    CA $50.91  \n",
       "9  775.99 Mexican Pesos $37.70  "
      ]
     },
     "execution_count": 9,
     "metadata": {},
     "output_type": "execute_result"
    }
   ],
   "source": [
    "dic_data[\"2022-08-07_pg3_tb0\"]"
   ]
  },
  {
   "cell_type": "markdown",
   "id": "b9cd874d",
   "metadata": {
    "papermill": {
     "duration": 0.009994,
     "end_time": "2022-12-05T15:08:22.377125",
     "exception": false,
     "start_time": "2022-12-05T15:08:22.367131",
     "status": "completed"
    },
    "tags": []
   },
   "source": [
    "### Preprocessing tables "
   ]
  },
  {
   "cell_type": "code",
   "execution_count": 10,
   "id": "c181a567",
   "metadata": {
    "execution": {
     "iopub.execute_input": "2022-12-05T15:08:22.394115Z",
     "iopub.status.busy": "2022-12-05T15:08:22.393117Z",
     "iopub.status.idle": "2022-12-05T15:08:22.427205Z",
     "shell.execute_reply": "2022-12-05T15:08:22.426203Z"
    },
    "papermill": {
     "duration": 0.045081,
     "end_time": "2022-12-05T15:08:22.430201",
     "exception": false,
     "start_time": "2022-12-05T15:08:22.385120",
     "status": "completed"
    },
    "tags": []
   },
   "outputs": [],
   "source": [
    "tables_2 = {}\n",
    "for key in tables.keys():\n",
    "    if len(tables[key].columns) == 4:\n",
    "        \n",
    "        table = tables[key].astype(str)\n",
    "        table.columns = [\"DATE\", \"DESCRIPTION\", \"column_not_name\", \"AMOUNT\"]\n",
    "        \n",
    "        patron = \"(\\$)(\\d*|\\d{1,3}(,\\d{3})*)(\\.\\d+)\"\n",
    "        regex_number_extractor = re.compile(patron)\n",
    "        table[\"AMOUNT\"] = table[\"AMOUNT\"].apply(lambda x: regex_number_extractor.search(x))\n",
    "        table[\"AMOUNT\"] = table[\"AMOUNT\"].apply(lambda x: x if x is None else x.group())\n",
    "        \n",
    "        table = table.drop(\"column_not_name\", axis=1)\n",
    "        \n",
    "        table.AMOUNT = table.AMOUNT.apply(lambda x: x.replace(\"$\", \"\"))\n",
    "        table[\"AMOUNT\"] = table[\"AMOUNT\"].astype(float)\n",
    "        table[\"type\"] = \"Withdrawals\"\n",
    "        \n",
    "        tables_2[key] = table\n",
    "\n",
    "    # else:\n",
    "        \n",
    "    #     table = tables[key].astype(str)\n",
    "    #     table.columns = [\"DATE\", \"DESCRIPTION\", \"AMOUNT\"]\n",
    "        \n",
    "    #     patron = \"(\\$)(\\d*|\\d{1,3}(,\\d{3})*)(\\.\\d+)\"\n",
    "    #     regex_number_extractor = re.compile(patron)\n",
    "    #     table[\"AMOUNT\"] = table[\"AMOUNT\"].apply(lambda x: regex_number_extractor.search(x))\n",
    "    #     table[\"AMOUNT\"] = table[\"AMOUNT\"].apply(lambda x: x if x is None else x.group())\n",
    "        \n",
    "    #     table = table.drop(table.index[len(table)-1])\n",
    "    #     table = table.dropna()\n",
    "        \n",
    "    #     table.AMOUNT = table.AMOUNT.apply(lambda x: x.replace(\"$\", \"\"))\n",
    "    #     table[\"AMOUNT\"] = table[\"AMOUNT\"].astype(float)\n",
    "    #     table[\"type\"] = \"Withdrawals\"\n",
    "\n",
    "    #     tables_2[key] = table"
   ]
  },
  {
   "cell_type": "code",
   "execution_count": 11,
   "id": "297f00fc",
   "metadata": {
    "execution": {
     "iopub.execute_input": "2022-12-05T15:08:22.454187Z",
     "iopub.status.busy": "2022-12-05T15:08:22.453189Z",
     "iopub.status.idle": "2022-12-05T15:08:22.473990Z",
     "shell.execute_reply": "2022-12-05T15:08:22.472987Z"
    },
    "papermill": {
     "duration": 0.034792,
     "end_time": "2022-12-05T15:08:22.475988",
     "exception": false,
     "start_time": "2022-12-05T15:08:22.441196",
     "status": "completed"
    },
    "tags": []
   },
   "outputs": [
    {
     "name": "stdout",
     "output_type": "stream",
     "text": [
      "2022-08-07_pg3_tb0\n",
      "2022-08-07_pg4_tb0\n"
     ]
    }
   ],
   "source": [
    "for key in tables_2.keys():\n",
    "    print(key)"
   ]
  },
  {
   "cell_type": "code",
   "execution_count": 12,
   "id": "5656e7bb",
   "metadata": {
    "execution": {
     "iopub.execute_input": "2022-12-05T15:08:22.493976Z",
     "iopub.status.busy": "2022-12-05T15:08:22.492976Z",
     "iopub.status.idle": "2022-12-05T15:08:22.521044Z",
     "shell.execute_reply": "2022-12-05T15:08:22.520050Z"
    },
    "papermill": {
     "duration": 0.040069,
     "end_time": "2022-12-05T15:08:22.524050",
     "exception": false,
     "start_time": "2022-12-05T15:08:22.483981",
     "status": "completed"
    },
    "tags": []
   },
   "outputs": [
    {
     "data": {
      "text/html": [
       "<div>\n",
       "<style scoped>\n",
       "    .dataframe tbody tr th:only-of-type {\n",
       "        vertical-align: middle;\n",
       "    }\n",
       "\n",
       "    .dataframe tbody tr th {\n",
       "        vertical-align: top;\n",
       "    }\n",
       "\n",
       "    .dataframe thead th {\n",
       "        text-align: right;\n",
       "    }\n",
       "</style>\n",
       "<table border=\"1\" class=\"dataframe\">\n",
       "  <thead>\n",
       "    <tr style=\"text-align: right;\">\n",
       "      <th></th>\n",
       "      <th>DATE</th>\n",
       "      <th>DESCRIPTION</th>\n",
       "      <th>AMOUNT</th>\n",
       "      <th>type</th>\n",
       "    </tr>\n",
       "  </thead>\n",
       "  <tbody>\n",
       "    <tr>\n",
       "      <th>0</th>\n",
       "      <td>07/17/22</td>\n",
       "      <td>UBER EATS 8005928996</td>\n",
       "      <td>9.16</td>\n",
       "      <td>Withdrawals</td>\n",
       "    </tr>\n",
       "    <tr>\n",
       "      <th>1</th>\n",
       "      <td>07/17/22</td>\n",
       "      <td>SUNPASS OPERATIONS 888-865-5352</td>\n",
       "      <td>112.50</td>\n",
       "      <td>Withdrawals</td>\n",
       "    </tr>\n",
       "    <tr>\n",
       "      <th>2</th>\n",
       "      <td>07/19/22</td>\n",
       "      <td>DR JOSE J ALVAREZ AND ASS 000000001 3059485002</td>\n",
       "      <td>92.00</td>\n",
       "      <td>Withdrawals</td>\n",
       "    </tr>\n",
       "    <tr>\n",
       "      <th>3</th>\n",
       "      <td>07/22/22</td>\n",
       "      <td>SUNNY ISLES PARKING METER 305-792-1707</td>\n",
       "      <td>4.27</td>\n",
       "      <td>Withdrawals</td>\n",
       "    </tr>\n",
       "    <tr>\n",
       "      <th>4</th>\n",
       "      <td>07/24/22</td>\n",
       "      <td>UBER TRIP HELP.UBER.COM</td>\n",
       "      <td>1.12</td>\n",
       "      <td>Withdrawals</td>\n",
       "    </tr>\n",
       "    <tr>\n",
       "      <th>5</th>\n",
       "      <td>07/24/22</td>\n",
       "      <td>UBER EATS 8005928996</td>\n",
       "      <td>138.81</td>\n",
       "      <td>Withdrawals</td>\n",
       "    </tr>\n",
       "    <tr>\n",
       "      <th>6</th>\n",
       "      <td>07/24/22</td>\n",
       "      <td>UBER EATS 8005928996</td>\n",
       "      <td>24.98</td>\n",
       "      <td>Withdrawals</td>\n",
       "    </tr>\n",
       "    <tr>\n",
       "      <th>7</th>\n",
       "      <td>07/25/22</td>\n",
       "      <td>NETFLIX.COM NETFLIX.COM</td>\n",
       "      <td>21.61</td>\n",
       "      <td>Withdrawals</td>\n",
       "    </tr>\n",
       "    <tr>\n",
       "      <th>8</th>\n",
       "      <td>07/26/22</td>\n",
       "      <td>PARKING PAY PHONE 0814 305-373-6789</td>\n",
       "      <td>2.27</td>\n",
       "      <td>Withdrawals</td>\n",
       "    </tr>\n",
       "    <tr>\n",
       "      <th>9</th>\n",
       "      <td>07/26/22</td>\n",
       "      <td>NOVECENTO RESTAURANT</td>\n",
       "      <td>27.72</td>\n",
       "      <td>Withdrawals</td>\n",
       "    </tr>\n",
       "    <tr>\n",
       "      <th>10</th>\n",
       "      <td>08/03/22</td>\n",
       "      <td>PARKING PAY PHONE 0814 305-373-6789</td>\n",
       "      <td>5.27</td>\n",
       "      <td>Withdrawals</td>\n",
       "    </tr>\n",
       "  </tbody>\n",
       "</table>\n",
       "</div>"
      ],
      "text/plain": [
       "        DATE                                     DESCRIPTION  AMOUNT  \\\n",
       "0   07/17/22                            UBER EATS 8005928996    9.16   \n",
       "1   07/17/22                 SUNPASS OPERATIONS 888-865-5352  112.50   \n",
       "2   07/19/22  DR JOSE J ALVAREZ AND ASS 000000001 3059485002   92.00   \n",
       "3   07/22/22          SUNNY ISLES PARKING METER 305-792-1707    4.27   \n",
       "4   07/24/22                         UBER TRIP HELP.UBER.COM    1.12   \n",
       "5   07/24/22                            UBER EATS 8005928996  138.81   \n",
       "6   07/24/22                            UBER EATS 8005928996   24.98   \n",
       "7   07/25/22                         NETFLIX.COM NETFLIX.COM   21.61   \n",
       "8   07/26/22             PARKING PAY PHONE 0814 305-373-6789    2.27   \n",
       "9   07/26/22                            NOVECENTO RESTAURANT   27.72   \n",
       "10  08/03/22             PARKING PAY PHONE 0814 305-373-6789    5.27   \n",
       "\n",
       "           type  \n",
       "0   Withdrawals  \n",
       "1   Withdrawals  \n",
       "2   Withdrawals  \n",
       "3   Withdrawals  \n",
       "4   Withdrawals  \n",
       "5   Withdrawals  \n",
       "6   Withdrawals  \n",
       "7   Withdrawals  \n",
       "8   Withdrawals  \n",
       "9   Withdrawals  \n",
       "10  Withdrawals  "
      ]
     },
     "execution_count": 12,
     "metadata": {},
     "output_type": "execute_result"
    }
   ],
   "source": [
    "tables_2[\"2022-08-07_pg4_tb0\"]"
   ]
  },
  {
   "cell_type": "markdown",
   "id": "89aa22a7",
   "metadata": {
    "papermill": {
     "duration": 0.009005,
     "end_time": "2022-12-05T15:08:22.542039",
     "exception": false,
     "start_time": "2022-12-05T15:08:22.533034",
     "status": "completed"
    },
    "tags": []
   },
   "source": [
    "### Final Step and Compile all Information in 1 DataFrame"
   ]
  },
  {
   "cell_type": "code",
   "execution_count": 13,
   "id": "97da4585",
   "metadata": {
    "execution": {
     "iopub.execute_input": "2022-12-05T15:08:22.562019Z",
     "iopub.status.busy": "2022-12-05T15:08:22.561017Z",
     "iopub.status.idle": "2022-12-05T15:08:22.584003Z",
     "shell.execute_reply": "2022-12-05T15:08:22.583015Z"
    },
    "papermill": {
     "duration": 0.03499,
     "end_time": "2022-12-05T15:08:22.587012",
     "exception": false,
     "start_time": "2022-12-05T15:08:22.552022",
     "status": "completed"
    },
    "tags": []
   },
   "outputs": [],
   "source": [
    "df_american_express_final = pd.DataFrame()\n",
    "for key in tables_2.keys():\n",
    "    df_american_express_final = pd.concat([df_american_express_final, tables_2[key]], axis=0)\n",
    "    df_american_express_final = df_american_express_final.sort_values([\"type\", \"DATE\"])\n",
    "    \n",
    "    "
   ]
  },
  {
   "cell_type": "markdown",
   "id": "14cc3df3",
   "metadata": {
    "papermill": {
     "duration": 0.008994,
     "end_time": "2022-12-05T15:08:22.603003",
     "exception": false,
     "start_time": "2022-12-05T15:08:22.594009",
     "status": "completed"
    },
    "tags": []
   },
   "source": [
    "### Check Information"
   ]
  },
  {
   "cell_type": "code",
   "execution_count": 14,
   "id": "2cf03d39",
   "metadata": {
    "execution": {
     "iopub.execute_input": "2022-12-05T15:08:22.623575Z",
     "iopub.status.busy": "2022-12-05T15:08:22.622575Z",
     "iopub.status.idle": "2022-12-05T15:08:22.647712Z",
     "shell.execute_reply": "2022-12-05T15:08:22.646738Z"
    },
    "papermill": {
     "duration": 0.039127,
     "end_time": "2022-12-05T15:08:22.651707",
     "exception": false,
     "start_time": "2022-12-05T15:08:22.612580",
     "status": "completed"
    },
    "tags": []
   },
   "outputs": [
    {
     "data": {
      "text/html": [
       "<div>\n",
       "<style scoped>\n",
       "    .dataframe tbody tr th:only-of-type {\n",
       "        vertical-align: middle;\n",
       "    }\n",
       "\n",
       "    .dataframe tbody tr th {\n",
       "        vertical-align: top;\n",
       "    }\n",
       "\n",
       "    .dataframe thead th {\n",
       "        text-align: right;\n",
       "    }\n",
       "</style>\n",
       "<table border=\"1\" class=\"dataframe\">\n",
       "  <thead>\n",
       "    <tr style=\"text-align: right;\">\n",
       "      <th></th>\n",
       "      <th>DATE</th>\n",
       "      <th>DESCRIPTION</th>\n",
       "      <th>AMOUNT</th>\n",
       "      <th>type</th>\n",
       "    </tr>\n",
       "  </thead>\n",
       "  <tbody>\n",
       "    <tr>\n",
       "      <th>0</th>\n",
       "      <td>07/09/22</td>\n",
       "      <td>PARKING PAY PHONE 0814 305-373-6789</td>\n",
       "      <td>2.27</td>\n",
       "      <td>Withdrawals</td>\n",
       "    </tr>\n",
       "    <tr>\n",
       "      <th>1</th>\n",
       "      <td>07/10/22</td>\n",
       "      <td>TARGET 010389 09100010389 612-3044357</td>\n",
       "      <td>37.29</td>\n",
       "      <td>Withdrawals</td>\n",
       "    </tr>\n",
       "    <tr>\n",
       "      <th>2</th>\n",
       "      <td>07/10/22</td>\n",
       "      <td>STARBUCKS STORE 6191 FAST FOOD RESTAURANT</td>\n",
       "      <td>15.46</td>\n",
       "      <td>Withdrawals</td>\n",
       "    </tr>\n",
       "    <tr>\n",
       "      <th>3</th>\n",
       "      <td>07/10/22</td>\n",
       "      <td>PUBLIX #1017 000001017 8636881188</td>\n",
       "      <td>25.34</td>\n",
       "      <td>Withdrawals</td>\n",
       "    </tr>\n",
       "    <tr>\n",
       "      <th>4</th>\n",
       "      <td>07/10/22</td>\n",
       "      <td>PARKING PAY PHONE 0814 305-373-6789</td>\n",
       "      <td>2.27</td>\n",
       "      <td>Withdrawals</td>\n",
       "    </tr>\n",
       "    <tr>\n",
       "      <th>5</th>\n",
       "      <td>07/11/22</td>\n",
       "      <td>FAROFA OF NORTH MIAMI 0000 305-947-3098</td>\n",
       "      <td>29.84</td>\n",
       "      <td>Withdrawals</td>\n",
       "    </tr>\n",
       "    <tr>\n",
       "      <th>6</th>\n",
       "      <td>07/12/22</td>\n",
       "      <td>PUBLIX 3059313761</td>\n",
       "      <td>14.66</td>\n",
       "      <td>Withdrawals</td>\n",
       "    </tr>\n",
       "    <tr>\n",
       "      <th>7</th>\n",
       "      <td>07/12/22</td>\n",
       "      <td>PREMIER ONE LOW PRICE 305-948-0740</td>\n",
       "      <td>37.32</td>\n",
       "      <td>Withdrawals</td>\n",
       "    </tr>\n",
       "    <tr>\n",
       "      <th>8</th>\n",
       "      <td>07/17/22</td>\n",
       "      <td>UBER EATS 8005928996</td>\n",
       "      <td>50.91</td>\n",
       "      <td>Withdrawals</td>\n",
       "    </tr>\n",
       "    <tr>\n",
       "      <th>9</th>\n",
       "      <td>07/17/22</td>\n",
       "      <td>UBER TRIP HELP.UBER.COM</td>\n",
       "      <td>37.70</td>\n",
       "      <td>Withdrawals</td>\n",
       "    </tr>\n",
       "    <tr>\n",
       "      <th>0</th>\n",
       "      <td>07/17/22</td>\n",
       "      <td>UBER EATS 8005928996</td>\n",
       "      <td>9.16</td>\n",
       "      <td>Withdrawals</td>\n",
       "    </tr>\n",
       "    <tr>\n",
       "      <th>1</th>\n",
       "      <td>07/17/22</td>\n",
       "      <td>SUNPASS OPERATIONS 888-865-5352</td>\n",
       "      <td>112.50</td>\n",
       "      <td>Withdrawals</td>\n",
       "    </tr>\n",
       "    <tr>\n",
       "      <th>2</th>\n",
       "      <td>07/19/22</td>\n",
       "      <td>DR JOSE J ALVAREZ AND ASS 000000001 3059485002</td>\n",
       "      <td>92.00</td>\n",
       "      <td>Withdrawals</td>\n",
       "    </tr>\n",
       "    <tr>\n",
       "      <th>3</th>\n",
       "      <td>07/22/22</td>\n",
       "      <td>SUNNY ISLES PARKING METER 305-792-1707</td>\n",
       "      <td>4.27</td>\n",
       "      <td>Withdrawals</td>\n",
       "    </tr>\n",
       "    <tr>\n",
       "      <th>4</th>\n",
       "      <td>07/24/22</td>\n",
       "      <td>UBER TRIP HELP.UBER.COM</td>\n",
       "      <td>1.12</td>\n",
       "      <td>Withdrawals</td>\n",
       "    </tr>\n",
       "    <tr>\n",
       "      <th>5</th>\n",
       "      <td>07/24/22</td>\n",
       "      <td>UBER EATS 8005928996</td>\n",
       "      <td>138.81</td>\n",
       "      <td>Withdrawals</td>\n",
       "    </tr>\n",
       "    <tr>\n",
       "      <th>6</th>\n",
       "      <td>07/24/22</td>\n",
       "      <td>UBER EATS 8005928996</td>\n",
       "      <td>24.98</td>\n",
       "      <td>Withdrawals</td>\n",
       "    </tr>\n",
       "    <tr>\n",
       "      <th>7</th>\n",
       "      <td>07/25/22</td>\n",
       "      <td>NETFLIX.COM NETFLIX.COM</td>\n",
       "      <td>21.61</td>\n",
       "      <td>Withdrawals</td>\n",
       "    </tr>\n",
       "    <tr>\n",
       "      <th>8</th>\n",
       "      <td>07/26/22</td>\n",
       "      <td>PARKING PAY PHONE 0814 305-373-6789</td>\n",
       "      <td>2.27</td>\n",
       "      <td>Withdrawals</td>\n",
       "    </tr>\n",
       "    <tr>\n",
       "      <th>9</th>\n",
       "      <td>07/26/22</td>\n",
       "      <td>NOVECENTO RESTAURANT</td>\n",
       "      <td>27.72</td>\n",
       "      <td>Withdrawals</td>\n",
       "    </tr>\n",
       "    <tr>\n",
       "      <th>10</th>\n",
       "      <td>08/03/22</td>\n",
       "      <td>PARKING PAY PHONE 0814 305-373-6789</td>\n",
       "      <td>5.27</td>\n",
       "      <td>Withdrawals</td>\n",
       "    </tr>\n",
       "  </tbody>\n",
       "</table>\n",
       "</div>"
      ],
      "text/plain": [
       "        DATE                                     DESCRIPTION  AMOUNT  \\\n",
       "0   07/09/22             PARKING PAY PHONE 0814 305-373-6789    2.27   \n",
       "1   07/10/22           TARGET 010389 09100010389 612-3044357   37.29   \n",
       "2   07/10/22       STARBUCKS STORE 6191 FAST FOOD RESTAURANT   15.46   \n",
       "3   07/10/22               PUBLIX #1017 000001017 8636881188   25.34   \n",
       "4   07/10/22             PARKING PAY PHONE 0814 305-373-6789    2.27   \n",
       "5   07/11/22         FAROFA OF NORTH MIAMI 0000 305-947-3098   29.84   \n",
       "6   07/12/22                               PUBLIX 3059313761   14.66   \n",
       "7   07/12/22              PREMIER ONE LOW PRICE 305-948-0740   37.32   \n",
       "8   07/17/22                            UBER EATS 8005928996   50.91   \n",
       "9   07/17/22                         UBER TRIP HELP.UBER.COM   37.70   \n",
       "0   07/17/22                            UBER EATS 8005928996    9.16   \n",
       "1   07/17/22                 SUNPASS OPERATIONS 888-865-5352  112.50   \n",
       "2   07/19/22  DR JOSE J ALVAREZ AND ASS 000000001 3059485002   92.00   \n",
       "3   07/22/22          SUNNY ISLES PARKING METER 305-792-1707    4.27   \n",
       "4   07/24/22                         UBER TRIP HELP.UBER.COM    1.12   \n",
       "5   07/24/22                            UBER EATS 8005928996  138.81   \n",
       "6   07/24/22                            UBER EATS 8005928996   24.98   \n",
       "7   07/25/22                         NETFLIX.COM NETFLIX.COM   21.61   \n",
       "8   07/26/22             PARKING PAY PHONE 0814 305-373-6789    2.27   \n",
       "9   07/26/22                            NOVECENTO RESTAURANT   27.72   \n",
       "10  08/03/22             PARKING PAY PHONE 0814 305-373-6789    5.27   \n",
       "\n",
       "           type  \n",
       "0   Withdrawals  \n",
       "1   Withdrawals  \n",
       "2   Withdrawals  \n",
       "3   Withdrawals  \n",
       "4   Withdrawals  \n",
       "5   Withdrawals  \n",
       "6   Withdrawals  \n",
       "7   Withdrawals  \n",
       "8   Withdrawals  \n",
       "9   Withdrawals  \n",
       "0   Withdrawals  \n",
       "1   Withdrawals  \n",
       "2   Withdrawals  \n",
       "3   Withdrawals  \n",
       "4   Withdrawals  \n",
       "5   Withdrawals  \n",
       "6   Withdrawals  \n",
       "7   Withdrawals  \n",
       "8   Withdrawals  \n",
       "9   Withdrawals  \n",
       "10  Withdrawals  "
      ]
     },
     "execution_count": 14,
     "metadata": {},
     "output_type": "execute_result"
    }
   ],
   "source": [
    "df_american_express_final"
   ]
  },
  {
   "cell_type": "code",
   "execution_count": 15,
   "id": "0e7946ee",
   "metadata": {
    "execution": {
     "iopub.execute_input": "2022-12-05T15:08:22.674695Z",
     "iopub.status.busy": "2022-12-05T15:08:22.673697Z",
     "iopub.status.idle": "2022-12-05T15:08:22.695150Z",
     "shell.execute_reply": "2022-12-05T15:08:22.694150Z"
    },
    "papermill": {
     "duration": 0.039447,
     "end_time": "2022-12-05T15:08:22.700148",
     "exception": false,
     "start_time": "2022-12-05T15:08:22.660701",
     "status": "completed"
    },
    "tags": []
   },
   "outputs": [
    {
     "data": {
      "text/plain": [
       "0.0"
      ]
     },
     "execution_count": 15,
     "metadata": {},
     "output_type": "execute_result"
    }
   ],
   "source": [
    "df_american_express_final[df_american_express_final.type == \"Income\"].AMOUNT.sum()"
   ]
  },
  {
   "cell_type": "code",
   "execution_count": 16,
   "id": "403ec915",
   "metadata": {
    "execution": {
     "iopub.execute_input": "2022-12-05T15:08:22.726146Z",
     "iopub.status.busy": "2022-12-05T15:08:22.725133Z",
     "iopub.status.idle": "2022-12-05T15:08:22.743154Z",
     "shell.execute_reply": "2022-12-05T15:08:22.742167Z"
    },
    "papermill": {
     "duration": 0.03401,
     "end_time": "2022-12-05T15:08:22.746153",
     "exception": false,
     "start_time": "2022-12-05T15:08:22.712143",
     "status": "completed"
    },
    "tags": []
   },
   "outputs": [
    {
     "data": {
      "text/plain": [
       "692.77"
      ]
     },
     "execution_count": 16,
     "metadata": {},
     "output_type": "execute_result"
    }
   ],
   "source": [
    "df_american_express_final[df_american_express_final.type == \"Withdrawals\"].AMOUNT.sum()"
   ]
  },
  {
   "cell_type": "markdown",
   "id": "1b205422",
   "metadata": {
    "papermill": {
     "duration": 0.010993,
     "end_time": "2022-12-05T15:08:22.767140",
     "exception": false,
     "start_time": "2022-12-05T15:08:22.756147",
     "status": "completed"
    },
    "tags": []
   },
   "source": [
    "## Delete Names"
   ]
  },
  {
   "cell_type": "code",
   "execution_count": 17,
   "id": "c3758661",
   "metadata": {
    "execution": {
     "iopub.execute_input": "2022-12-05T15:08:22.795126Z",
     "iopub.status.busy": "2022-12-05T15:08:22.794125Z",
     "iopub.status.idle": "2022-12-05T15:08:22.805142Z",
     "shell.execute_reply": "2022-12-05T15:08:22.804157Z"
    },
    "papermill": {
     "duration": 0.025006,
     "end_time": "2022-12-05T15:08:22.808138",
     "exception": false,
     "start_time": "2022-12-05T15:08:22.783132",
     "status": "completed"
    },
    "tags": []
   },
   "outputs": [],
   "source": [
    "names = [\"JOSE J ALVAREZ\"]"
   ]
  },
  {
   "cell_type": "code",
   "execution_count": 18,
   "id": "b892fb80",
   "metadata": {
    "execution": {
     "iopub.execute_input": "2022-12-05T15:08:22.832126Z",
     "iopub.status.busy": "2022-12-05T15:08:22.831127Z",
     "iopub.status.idle": "2022-12-05T15:08:22.854120Z",
     "shell.execute_reply": "2022-12-05T15:08:22.852136Z"
    },
    "papermill": {
     "duration": 0.038982,
     "end_time": "2022-12-05T15:08:22.856118",
     "exception": false,
     "start_time": "2022-12-05T15:08:22.817136",
     "status": "completed"
    },
    "tags": []
   },
   "outputs": [],
   "source": [
    "for name in names:\n",
    "    df_american_express_final.DESCRIPTION = df_american_express_final.DESCRIPTION.apply(lambda x: x.replace(name, \"#####\"))"
   ]
  },
  {
   "cell_type": "markdown",
   "id": "3fa0715f",
   "metadata": {
    "papermill": {
     "duration": 0.009996,
     "end_time": "2022-12-05T15:08:22.876109",
     "exception": false,
     "start_time": "2022-12-05T15:08:22.866113",
     "status": "completed"
    },
    "tags": []
   },
   "source": [
    "## Save Output"
   ]
  },
  {
   "cell_type": "code",
   "execution_count": 19,
   "id": "fdbb46df",
   "metadata": {
    "execution": {
     "iopub.execute_input": "2022-12-05T15:08:22.896097Z",
     "iopub.status.busy": "2022-12-05T15:08:22.895096Z",
     "iopub.status.idle": "2022-12-05T15:08:22.917084Z",
     "shell.execute_reply": "2022-12-05T15:08:22.915085Z"
    },
    "papermill": {
     "duration": 0.034991,
     "end_time": "2022-12-05T15:08:22.920092",
     "exception": false,
     "start_time": "2022-12-05T15:08:22.885101",
     "status": "completed"
    },
    "tags": []
   },
   "outputs": [],
   "source": [
    "df_american_express_final[\"bank\"] = \"American Express\"\n",
    "folder_output = \"output_script\"\n",
    "file = \"american_express_output.csv\""
   ]
  },
  {
   "cell_type": "code",
   "execution_count": 20,
   "id": "4bf5446a",
   "metadata": {
    "execution": {
     "iopub.execute_input": "2022-12-05T15:08:22.940081Z",
     "iopub.status.busy": "2022-12-05T15:08:22.940081Z",
     "iopub.status.idle": "2022-12-05T15:08:22.962152Z",
     "shell.execute_reply": "2022-12-05T15:08:22.961166Z"
    },
    "papermill": {
     "duration": 0.037072,
     "end_time": "2022-12-05T15:08:22.966149",
     "exception": false,
     "start_time": "2022-12-05T15:08:22.929077",
     "status": "completed"
    },
    "tags": []
   },
   "outputs": [],
   "source": [
    "df_american_express_final.to_csv(os.path.join(path,folder_output, file), index=False, encoding=\"utf8\")"
   ]
  }
 ],
 "metadata": {
  "kernelspec": {
   "display_name": "venv",
   "language": "python",
   "name": "python3"
  },
  "language_info": {
   "codemirror_mode": {
    "name": "ipython",
    "version": 3
   },
   "file_extension": ".py",
   "mimetype": "text/x-python",
   "name": "python",
   "nbconvert_exporter": "python",
   "pygments_lexer": "ipython3",
   "version": "3.10.5"
  },
  "papermill": {
   "default_parameters": {},
   "duration": 4.541299,
   "end_time": "2022-12-05T15:08:23.339149",
   "environment_variables": {},
   "exception": null,
   "input_path": "american_express_case.ipynb",
   "output_path": "american_express_case.ipynb",
   "parameters": {},
   "start_time": "2022-12-05T15:08:18.797850",
   "version": "2.4.0"
  },
  "vscode": {
   "interpreter": {
    "hash": "b7a37235a2a0b468d2679cea264852352efd4af2e267d85e36c7b7619b001185"
   }
  }
 },
 "nbformat": 4,
 "nbformat_minor": 5
}
