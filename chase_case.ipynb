{
 "cells": [
  {
   "cell_type": "markdown",
   "id": "202765c7",
   "metadata": {
    "papermill": {
     "duration": 0.009993,
     "end_time": "2022-12-05T15:08:10.808856",
     "exception": false,
     "start_time": "2022-12-05T15:08:10.798863",
     "status": "completed"
    },
    "tags": []
   },
   "source": [
    "## <center> Chase Case </center>"
   ]
  },
  {
   "cell_type": "markdown",
   "id": "47007ed5",
   "metadata": {
    "papermill": {
     "duration": 0.010997,
     "end_time": "2022-12-05T15:08:10.837842",
     "exception": false,
     "start_time": "2022-12-05T15:08:10.826845",
     "status": "completed"
    },
    "tags": []
   },
   "source": [
    "### Import Data and Storage in Hash Table"
   ]
  },
  {
   "cell_type": "code",
   "execution_count": 1,
   "id": "54f4dbeb",
   "metadata": {
    "execution": {
     "iopub.execute_input": "2022-12-05T15:08:10.857664Z",
     "iopub.status.busy": "2022-12-05T15:08:10.856663Z",
     "iopub.status.idle": "2022-12-05T15:08:11.667467Z",
     "shell.execute_reply": "2022-12-05T15:08:11.666466Z"
    },
    "papermill": {
     "duration": 0.823785,
     "end_time": "2022-12-05T15:08:11.670465",
     "exception": false,
     "start_time": "2022-12-05T15:08:10.846680",
     "status": "completed"
    },
    "tags": []
   },
   "outputs": [],
   "source": [
    "import numpy as np\n",
    "import pandas as pd\n",
    "import os\n",
    "import re"
   ]
  },
  {
   "cell_type": "code",
   "execution_count": 2,
   "id": "a291c81c",
   "metadata": {
    "execution": {
     "iopub.execute_input": "2022-12-05T15:08:11.695451Z",
     "iopub.status.busy": "2022-12-05T15:08:11.694451Z",
     "iopub.status.idle": "2022-12-05T15:08:11.715477Z",
     "shell.execute_reply": "2022-12-05T15:08:11.713477Z"
    },
    "papermill": {
     "duration": 0.040015,
     "end_time": "2022-12-05T15:08:11.720474",
     "exception": false,
     "start_time": "2022-12-05T15:08:11.680459",
     "status": "completed"
    },
    "tags": []
   },
   "outputs": [],
   "source": [
    "#Variables\n",
    "FLAG_TABLE = False"
   ]
  },
  {
   "cell_type": "code",
   "execution_count": 3,
   "id": "85d99596",
   "metadata": {
    "execution": {
     "iopub.execute_input": "2022-12-05T15:08:11.742461Z",
     "iopub.status.busy": "2022-12-05T15:08:11.741463Z",
     "iopub.status.idle": "2022-12-05T15:08:11.762048Z",
     "shell.execute_reply": "2022-12-05T15:08:11.761048Z"
    },
    "papermill": {
     "duration": 0.036577,
     "end_time": "2022-12-05T15:08:11.765045",
     "exception": false,
     "start_time": "2022-12-05T15:08:11.728468",
     "status": "completed"
    },
    "tags": []
   },
   "outputs": [],
   "source": [
    "path = os.getcwd()\n",
    "folder = \"output_chase_documentai\"\n",
    "folder_file = \"file_1\"\n",
    "files = os.listdir(os.path.join(folder, folder_file))"
   ]
  },
  {
   "cell_type": "code",
   "execution_count": 4,
   "id": "fc103b3b",
   "metadata": {
    "execution": {
     "iopub.execute_input": "2022-12-05T15:08:11.785035Z",
     "iopub.status.busy": "2022-12-05T15:08:11.784035Z",
     "iopub.status.idle": "2022-12-05T15:08:11.824147Z",
     "shell.execute_reply": "2022-12-05T15:08:11.823148Z"
    },
    "papermill": {
     "duration": 0.054105,
     "end_time": "2022-12-05T15:08:11.827146",
     "exception": false,
     "start_time": "2022-12-05T15:08:11.773041",
     "status": "completed"
    },
    "tags": []
   },
   "outputs": [],
   "source": [
    "dic_data = {}\n",
    "for file in files:\n",
    "    data = pd.read_csv(os.path.join(path, folder, folder_file, file))\n",
    "    p = \"(pg\\d\\w+)\"\n",
    "    regex_p= re.compile(p)\n",
    "    dic_key = regex_p.search(file).group()\n",
    "    dic_data[dic_key] = data"
   ]
  },
  {
   "cell_type": "code",
   "execution_count": 5,
   "id": "a5319e8e",
   "metadata": {
    "execution": {
     "iopub.execute_input": "2022-12-05T15:08:11.850132Z",
     "iopub.status.busy": "2022-12-05T15:08:11.849133Z",
     "iopub.status.idle": "2022-12-05T15:08:11.872043Z",
     "shell.execute_reply": "2022-12-05T15:08:11.870044Z"
    },
    "papermill": {
     "duration": 0.040899,
     "end_time": "2022-12-05T15:08:11.876041",
     "exception": false,
     "start_time": "2022-12-05T15:08:11.835142",
     "status": "completed"
    },
    "tags": []
   },
   "outputs": [
    {
     "name": "stdout",
     "output_type": "stream",
     "text": [
      "pg1_tb0\n",
      "pg1_tb1\n",
      "pg1_tb2\n",
      "pg2_tb0\n",
      "pg3_tb0\n",
      "pg3_tb1\n",
      "pg4_tb0\n",
      "pg4_tb1\n",
      "pg4_tb2\n",
      "pg5_tb0\n",
      "pg6_tb0\n",
      "pg6_tb1\n",
      "pg7_tb0\n",
      "pg7_tb1\n",
      "pg7_tb2\n",
      "pg7_tb3\n",
      "pg8_tb0\n",
      "pg8_tb1\n"
     ]
    }
   ],
   "source": [
    "for key in dic_data.keys():\n",
    "    print(key)"
   ]
  },
  {
   "cell_type": "code",
   "execution_count": 9,
   "id": "b1386643",
   "metadata": {
    "execution": {
     "iopub.execute_input": "2022-12-05T15:08:11.899028Z",
     "iopub.status.busy": "2022-12-05T15:08:11.898028Z",
     "iopub.status.idle": "2022-12-05T15:08:11.934640Z",
     "shell.execute_reply": "2022-12-05T15:08:11.933642Z"
    },
    "papermill": {
     "duration": 0.052604,
     "end_time": "2022-12-05T15:08:11.937639",
     "exception": false,
     "start_time": "2022-12-05T15:08:11.885035",
     "status": "completed"
    },
    "tags": []
   },
   "outputs": [
    {
     "data": {
      "text/html": [
       "<div>\n",
       "<style scoped>\n",
       "    .dataframe tbody tr th:only-of-type {\n",
       "        vertical-align: middle;\n",
       "    }\n",
       "\n",
       "    .dataframe tbody tr th {\n",
       "        vertical-align: top;\n",
       "    }\n",
       "\n",
       "    .dataframe thead th {\n",
       "        text-align: right;\n",
       "    }\n",
       "</style>\n",
       "<table border=\"1\" class=\"dataframe\">\n",
       "  <thead>\n",
       "    <tr style=\"text-align: right;\">\n",
       "      <th></th>\n",
       "      <th>DATE</th>\n",
       "      <th>DESCRIPTION</th>\n",
       "      <th>AMOUNT</th>\n",
       "    </tr>\n",
       "  </thead>\n",
       "  <tbody>\n",
       "    <tr>\n",
       "      <th>0</th>\n",
       "      <td>03/29</td>\n",
       "      <td>Orig CO Name: Square Inc Descr:210329P2 Sec:CCD</td>\n",
       "      <td>91.15 Orig ID:9424300002 Desc Date: 210329 CO ...</td>\n",
       "    </tr>\n",
       "    <tr>\n",
       "      <th>1</th>\n",
       "      <td>NaN</td>\n",
       "      <td>ID:L205609880756 L65480 Trn: 0889288526Tc</td>\n",
       "      <td>Ind Name:Miami Virgin Hair Corp</td>\n",
       "    </tr>\n",
       "    <tr>\n",
       "      <th>2</th>\n",
       "      <td>03/29</td>\n",
       "      <td>Orig CO Name: Square Inc Descr:210329P2 Sec:CC...</td>\n",
       "      <td>65.59 Orig ID:9424300002 Desc Date:210329 CO E...</td>\n",
       "    </tr>\n",
       "    <tr>\n",
       "      <th>3</th>\n",
       "      <td>03/29</td>\n",
       "      <td>Zelle Payment From Lorena</td>\n",
       "      <td>Tubias Bacv67LA34Q7 30.00</td>\n",
       "    </tr>\n",
       "    <tr>\n",
       "      <th>4</th>\n",
       "      <td>03/31</td>\n",
       "      <td>ATM Cash Deposit</td>\n",
       "      <td>03/31 19495 Biscayne Blvd Aventura FL Card 844...</td>\n",
       "    </tr>\n",
       "    <tr>\n",
       "      <th>5</th>\n",
       "      <td>03/31</td>\n",
       "      <td>Orig CO Name: Square Inc</td>\n",
       "      <td>Orig ID:9424300002 Desc Date: 210331 CO Entry ...</td>\n",
       "    </tr>\n",
       "    <tr>\n",
       "      <th>6</th>\n",
       "      <td>NaN</td>\n",
       "      <td>Descr:210331P2 Sec: CCD ID:L205610393262 L6552...</td>\n",
       "      <td>Trace#:021000028975194 Eed: 210331 Ind Ind Nam...</td>\n",
       "    </tr>\n",
       "    <tr>\n",
       "      <th>7</th>\n",
       "      <td>Total Deposits</td>\n",
       "      <td>and Additions</td>\n",
       "      <td>$24,809.90</td>\n",
       "    </tr>\n",
       "  </tbody>\n",
       "</table>\n",
       "</div>"
      ],
      "text/plain": [
       "             DATE                                        DESCRIPTION  \\\n",
       "0           03/29    Orig CO Name: Square Inc Descr:210329P2 Sec:CCD   \n",
       "1             NaN          ID:L205609880756 L65480 Trn: 0889288526Tc   \n",
       "2           03/29  Orig CO Name: Square Inc Descr:210329P2 Sec:CC...   \n",
       "3           03/29                          Zelle Payment From Lorena   \n",
       "4           03/31                                   ATM Cash Deposit   \n",
       "5           03/31                           Orig CO Name: Square Inc   \n",
       "6             NaN  Descr:210331P2 Sec: CCD ID:L205610393262 L6552...   \n",
       "7  Total Deposits                                      and Additions   \n",
       "\n",
       "                                              AMOUNT  \n",
       "0  91.15 Orig ID:9424300002 Desc Date: 210329 CO ...  \n",
       "1                    Ind Name:Miami Virgin Hair Corp  \n",
       "2  65.59 Orig ID:9424300002 Desc Date:210329 CO E...  \n",
       "3                          Tubias Bacv67LA34Q7 30.00  \n",
       "4  03/31 19495 Biscayne Blvd Aventura FL Card 844...  \n",
       "5  Orig ID:9424300002 Desc Date: 210331 CO Entry ...  \n",
       "6  Trace#:021000028975194 Eed: 210331 Ind Ind Nam...  \n",
       "7                                         $24,809.90  "
      ]
     },
     "execution_count": 9,
     "metadata": {},
     "output_type": "execute_result"
    }
   ],
   "source": [
    "dic_data[\"pg3_tb1\"]#.iloc[0:1].values"
   ]
  },
  {
   "cell_type": "markdown",
   "id": "cbad0df9",
   "metadata": {
    "papermill": {
     "duration": 0.007995,
     "end_time": "2022-12-05T15:08:11.953629",
     "exception": false,
     "start_time": "2022-12-05T15:08:11.945634",
     "status": "completed"
    },
    "tags": []
   },
   "source": [
    "### Separate used table and Storage in Another Dic"
   ]
  },
  {
   "cell_type": "code",
   "execution_count": 7,
   "id": "6b2c4df5",
   "metadata": {
    "execution": {
     "iopub.execute_input": "2022-12-05T15:08:11.981625Z",
     "iopub.status.busy": "2022-12-05T15:08:11.980614Z",
     "iopub.status.idle": "2022-12-05T15:08:11.998160Z",
     "shell.execute_reply": "2022-12-05T15:08:11.997173Z"
    },
    "papermill": {
     "duration": 0.038534,
     "end_time": "2022-12-05T15:08:12.001158",
     "exception": false,
     "start_time": "2022-12-05T15:08:11.962624",
     "status": "completed"
    },
    "tags": []
   },
   "outputs": [],
   "source": [
    "tables = {}\n",
    "for key in dic_data.keys():\n",
    "    if len(dic_data[key].columns) >= 3 and len(dic_data[key].columns) < 6:\n",
    "        for column in dic_data[key].columns:\n",
    "            if \"DATE\" in column:\n",
    "                FLAG_TABLE = True\n",
    "    if FLAG_TABLE:\n",
    "        tables[key] = dic_data[key]\n",
    "        FLAG_TABLE = False"
   ]
  },
  {
   "cell_type": "code",
   "execution_count": 8,
   "id": "1e347b87",
   "metadata": {
    "execution": {
     "iopub.execute_input": "2022-12-05T15:08:12.025148Z",
     "iopub.status.busy": "2022-12-05T15:08:12.024145Z",
     "iopub.status.idle": "2022-12-05T15:08:12.044771Z",
     "shell.execute_reply": "2022-12-05T15:08:12.043786Z"
    },
    "papermill": {
     "duration": 0.035619,
     "end_time": "2022-12-05T15:08:12.046772",
     "exception": false,
     "start_time": "2022-12-05T15:08:12.011153",
     "status": "completed"
    },
    "tags": []
   },
   "outputs": [],
   "source": [
    "#Nota: hacerlo de esta forma, implica arregalr antes tema clumnas en el header\n",
    "\n",
    "# tables = {}\n",
    "# for key in dic_data.keys():\n",
    "#     if len(dic_data[key].columns) >= 3 and len(dic_data[key].columns) < 6 and \"DATE\" in dic_data[key].columns:\n",
    "#         tables[key] = dic_data[key]\n"
   ]
  },
  {
   "cell_type": "code",
   "execution_count": 9,
   "id": "2375fddd",
   "metadata": {
    "execution": {
     "iopub.execute_input": "2022-12-05T15:08:12.070757Z",
     "iopub.status.busy": "2022-12-05T15:08:12.069775Z",
     "iopub.status.idle": "2022-12-05T15:08:12.076755Z",
     "shell.execute_reply": "2022-12-05T15:08:12.075756Z"
    },
    "papermill": {
     "duration": 0.021988,
     "end_time": "2022-12-05T15:08:12.078754",
     "exception": false,
     "start_time": "2022-12-05T15:08:12.056766",
     "status": "completed"
    },
    "tags": []
   },
   "outputs": [
    {
     "name": "stdout",
     "output_type": "stream",
     "text": [
      "pg1_tb0\n",
      "pg2_tb0\n",
      "pg2_tb1\n",
      "pg2_tb2\n"
     ]
    }
   ],
   "source": [
    "for key in tables.keys():\n",
    "    print(key)"
   ]
  },
  {
   "cell_type": "code",
   "execution_count": 10,
   "id": "6af0660d",
   "metadata": {
    "execution": {
     "iopub.execute_input": "2022-12-05T15:08:12.101742Z",
     "iopub.status.busy": "2022-12-05T15:08:12.100741Z",
     "iopub.status.idle": "2022-12-05T15:08:12.124147Z",
     "shell.execute_reply": "2022-12-05T15:08:12.123147Z"
    },
    "papermill": {
     "duration": 0.037396,
     "end_time": "2022-12-05T15:08:12.126145",
     "exception": false,
     "start_time": "2022-12-05T15:08:12.088749",
     "status": "completed"
    },
    "tags": []
   },
   "outputs": [],
   "source": [
    "tables[\"pg2_tb2\"] = tables[\"pg2_tb2\"].rename(columns={\"Unnamed: 2\":\"column_not_name\"})\n",
    "tables[\"pg2_tb0\"] = tables[\"pg2_tb0\"].rename(columns={\"Unnamed: 2\":\"column_not_name\"})"
   ]
  },
  {
   "cell_type": "markdown",
   "id": "65debf4f",
   "metadata": {
    "papermill": {
     "duration": 0.008996,
     "end_time": "2022-12-05T15:08:12.144137",
     "exception": false,
     "start_time": "2022-12-05T15:08:12.135141",
     "status": "completed"
    },
    "tags": []
   },
   "source": [
    "### Preprocessing tables \"column_not_name\""
   ]
  },
  {
   "cell_type": "code",
   "execution_count": 11,
   "id": "ad1213c5",
   "metadata": {
    "execution": {
     "iopub.execute_input": "2022-12-05T15:08:12.164126Z",
     "iopub.status.busy": "2022-12-05T15:08:12.163125Z",
     "iopub.status.idle": "2022-12-05T15:08:12.203142Z",
     "shell.execute_reply": "2022-12-05T15:08:12.202158Z"
    },
    "papermill": {
     "duration": 0.053999,
     "end_time": "2022-12-05T15:08:12.206131",
     "exception": false,
     "start_time": "2022-12-05T15:08:12.152132",
     "status": "completed"
    },
    "tags": []
   },
   "outputs": [],
   "source": [
    "tables_2 = {}\n",
    "for key in tables.keys():\n",
    "    if \"column_not_name\" in tables[key].columns and len(tables[key].columns) == 4:\n",
    "        \n",
    "        table = tables[key]\n",
    "        \n",
    "        table[\"DESCRIPTION\"] = table.apply(lambda x: x[\"DESCRIPTION\"] + (x.column_not_name)\n",
    "                                            if pd.notnull(x.column_not_name)\n",
    "                                            else x[\"DESCRIPTION\"],\n",
    "                                            axis=1)\n",
    "        \n",
    "        table = table.drop(\"column_not_name\",axis=1)\n",
    "        tables_2[key] = table\n",
    "\n",
    "    elif \"column_not_name\" in tables[key].columns and len(tables[key].columns) == 3:\n",
    "        \n",
    "        table = tables[key].astype(str)\n",
    "        patron = \"(\\d*|\\d{1,3}(,\\d{3})*)(\\.\\d+)\"\n",
    "        regex_number_extractor = re.compile(patron)\n",
    "        table[\"AMOUNT\"] = table[\"AMOUNT DESCRIPTION\"].apply(lambda x: regex_number_extractor.search(x))\n",
    "        table[\"AMOUNT\"] = table[\"AMOUNT\"].apply(lambda x: x if x is None else x.group())\n",
    "        \n",
    "        table[\"AMOUNT\"] = table.apply(lambda x: x[\"AMOUNT\"] \n",
    "                                      if pd.notnull(x[\"AMOUNT\"])\n",
    "                                      else x.column_not_name,\n",
    "                                      axis=1)\n",
    "        \n",
    "        table = table.rename(columns={\"AMOUNT DESCRIPTION\":\"DESCRIPTION\"})\n",
    "        table[\"DESCRIPTION\"] = table.apply(lambda x: x[\"DESCRIPTION\"].replace(x[\"AMOUNT\"], \"\"),axis=1)\n",
    "        table[\"DESCRIPTION\"] = table.apply(lambda x: x[\"DESCRIPTION\"].replace(\"$\", \"\"),axis=1)\n",
    "        table = table.drop(\"column_not_name\",axis=1)\n",
    "        tables_2[key] = table\n",
    "        \n",
    "    else:\n",
    "        tables_2[key] = tables[key]"
   ]
  },
  {
   "cell_type": "code",
   "execution_count": 12,
   "id": "831d7478",
   "metadata": {
    "execution": {
     "iopub.execute_input": "2022-12-05T15:08:12.226118Z",
     "iopub.status.busy": "2022-12-05T15:08:12.225119Z",
     "iopub.status.idle": "2022-12-05T15:08:12.234785Z",
     "shell.execute_reply": "2022-12-05T15:08:12.233797Z"
    },
    "papermill": {
     "duration": 0.023648,
     "end_time": "2022-12-05T15:08:12.237783",
     "exception": false,
     "start_time": "2022-12-05T15:08:12.214135",
     "status": "completed"
    },
    "tags": []
   },
   "outputs": [
    {
     "name": "stdout",
     "output_type": "stream",
     "text": [
      "pg1_tb0\n",
      "pg2_tb0\n",
      "pg2_tb1\n",
      "pg2_tb2\n"
     ]
    }
   ],
   "source": [
    "for key in tables_2.keys():\n",
    "    print(key)"
   ]
  },
  {
   "cell_type": "code",
   "execution_count": 13,
   "id": "797255a7",
   "metadata": {
    "execution": {
     "iopub.execute_input": "2022-12-05T15:08:12.261772Z",
     "iopub.status.busy": "2022-12-05T15:08:12.260771Z",
     "iopub.status.idle": "2022-12-05T15:08:12.282160Z",
     "shell.execute_reply": "2022-12-05T15:08:12.281173Z"
    },
    "papermill": {
     "duration": 0.034378,
     "end_time": "2022-12-05T15:08:12.284159",
     "exception": false,
     "start_time": "2022-12-05T15:08:12.249781",
     "status": "completed"
    },
    "tags": []
   },
   "outputs": [
    {
     "data": {
      "text/html": [
       "<div>\n",
       "<style scoped>\n",
       "    .dataframe tbody tr th:only-of-type {\n",
       "        vertical-align: middle;\n",
       "    }\n",
       "\n",
       "    .dataframe tbody tr th {\n",
       "        vertical-align: top;\n",
       "    }\n",
       "\n",
       "    .dataframe thead th {\n",
       "        text-align: right;\n",
       "    }\n",
       "</style>\n",
       "<table border=\"1\" class=\"dataframe\">\n",
       "  <thead>\n",
       "    <tr style=\"text-align: right;\">\n",
       "      <th></th>\n",
       "      <th>DATE 08/02</th>\n",
       "      <th>DESCRIPTION Zelle Payment From Sergio Molho Bacuco6Dhrcf</th>\n",
       "      <th>AMOUNT $229.00</th>\n",
       "    </tr>\n",
       "  </thead>\n",
       "  <tbody>\n",
       "    <tr>\n",
       "      <th>0</th>\n",
       "      <td>08/02</td>\n",
       "      <td>Zelle Zelle Payment From Ignacio Lanfranconi B...</td>\n",
       "      <td>100.0</td>\n",
       "    </tr>\n",
       "    <tr>\n",
       "      <th>1</th>\n",
       "      <td>08/03</td>\n",
       "      <td>Orig CO Name:Venmo Orig ID:5264681992 Desc Dat...</td>\n",
       "      <td>240.0</td>\n",
       "    </tr>\n",
       "    <tr>\n",
       "      <th>2</th>\n",
       "      <td>08/05</td>\n",
       "      <td>Zelle Payment From Dina Eidman Tdp0Gdd6G7G2</td>\n",
       "      <td>50.0</td>\n",
       "    </tr>\n",
       "    <tr>\n",
       "      <th>3</th>\n",
       "      <td>08/09</td>\n",
       "      <td>Remote Online Deposit 1</td>\n",
       "      <td>60.0</td>\n",
       "    </tr>\n",
       "    <tr>\n",
       "      <th>4</th>\n",
       "      <td>08/09</td>\n",
       "      <td>Orig CO Name:Venmo Orig ID:5264681992 Desc Dat...</td>\n",
       "      <td>107.0</td>\n",
       "    </tr>\n",
       "    <tr>\n",
       "      <th>5</th>\n",
       "      <td>08/09</td>\n",
       "      <td>Orig CO Name:Venmo Orig ID:5264681992 Desc Dat...</td>\n",
       "      <td>90.0</td>\n",
       "    </tr>\n",
       "    <tr>\n",
       "      <th>6</th>\n",
       "      <td>08/10</td>\n",
       "      <td>Zelle Payment From Hernan Berman Bacvkdsxl2Rv</td>\n",
       "      <td>80.0</td>\n",
       "    </tr>\n",
       "    <tr>\n",
       "      <th>7</th>\n",
       "      <td>08/20</td>\n",
       "      <td>Orig CO Name:Venmo Orig ID:5264681992 Desc Dat...</td>\n",
       "      <td>150.0</td>\n",
       "    </tr>\n",
       "    <tr>\n",
       "      <th>8</th>\n",
       "      <td>08/23</td>\n",
       "      <td>Zelle Payment From Natalia Palazzo Wfct0C7Nthjl</td>\n",
       "      <td>115.0</td>\n",
       "    </tr>\n",
       "    <tr>\n",
       "      <th>9</th>\n",
       "      <td>08/23</td>\n",
       "      <td>Zelle Payment From Layla De Armas 12442941880</td>\n",
       "      <td>55.0</td>\n",
       "    </tr>\n",
       "    <tr>\n",
       "      <th>10</th>\n",
       "      <td>08/25</td>\n",
       "      <td>Orig CO Name:Venmo Orig ID:5264681992 Desc Dat...</td>\n",
       "      <td>415.0</td>\n",
       "    </tr>\n",
       "    <tr>\n",
       "      <th>11</th>\n",
       "      <td>08/30</td>\n",
       "      <td>Zelle Payment From Natalia Palazzo Wfct0C8Zw4NJ</td>\n",
       "      <td>105.0</td>\n",
       "    </tr>\n",
       "  </tbody>\n",
       "</table>\n",
       "</div>"
      ],
      "text/plain": [
       "   DATE 08/02 DESCRIPTION Zelle Payment From Sergio Molho Bacuco6Dhrcf  \\\n",
       "0       08/02  Zelle Zelle Payment From Ignacio Lanfranconi B...         \n",
       "1       08/03  Orig CO Name:Venmo Orig ID:5264681992 Desc Dat...         \n",
       "2       08/05        Zelle Payment From Dina Eidman Tdp0Gdd6G7G2         \n",
       "3       08/09                            Remote Online Deposit 1         \n",
       "4       08/09  Orig CO Name:Venmo Orig ID:5264681992 Desc Dat...         \n",
       "5       08/09  Orig CO Name:Venmo Orig ID:5264681992 Desc Dat...         \n",
       "6       08/10      Zelle Payment From Hernan Berman Bacvkdsxl2Rv         \n",
       "7       08/20  Orig CO Name:Venmo Orig ID:5264681992 Desc Dat...         \n",
       "8       08/23    Zelle Payment From Natalia Palazzo Wfct0C7Nthjl         \n",
       "9       08/23      Zelle Payment From Layla De Armas 12442941880         \n",
       "10      08/25  Orig CO Name:Venmo Orig ID:5264681992 Desc Dat...         \n",
       "11      08/30    Zelle Payment From Natalia Palazzo Wfct0C8Zw4NJ         \n",
       "\n",
       "    AMOUNT $229.00  \n",
       "0            100.0  \n",
       "1            240.0  \n",
       "2             50.0  \n",
       "3             60.0  \n",
       "4            107.0  \n",
       "5             90.0  \n",
       "6             80.0  \n",
       "7            150.0  \n",
       "8            115.0  \n",
       "9             55.0  \n",
       "10           415.0  \n",
       "11           105.0  "
      ]
     },
     "execution_count": 13,
     "metadata": {},
     "output_type": "execute_result"
    }
   ],
   "source": [
    "tables_2[\"pg1_tb0\"]"
   ]
  },
  {
   "cell_type": "code",
   "execution_count": 14,
   "id": "eb160ecb",
   "metadata": {
    "execution": {
     "iopub.execute_input": "2022-12-05T15:08:12.311658Z",
     "iopub.status.busy": "2022-12-05T15:08:12.310661Z",
     "iopub.status.idle": "2022-12-05T15:08:12.328786Z",
     "shell.execute_reply": "2022-12-05T15:08:12.327787Z"
    },
    "papermill": {
     "duration": 0.034632,
     "end_time": "2022-12-05T15:08:12.331784",
     "exception": false,
     "start_time": "2022-12-05T15:08:12.297152",
     "status": "completed"
    },
    "tags": []
   },
   "outputs": [],
   "source": [
    "#Check logica de agregado de columna del titulo al DF\n",
    "\n",
    "# df = tables_2[\"pg1_tb0\"].copy(deep=True)\n",
    "# df.columns.values\n",
    "# test = [x.replace(\"DATE\",\"\").strip() if \"DATE\" in x \n",
    "#         else x.replace(\"DESCRIPTION\",\"\").strip() if \"DESCRIPTION\" in x \n",
    "#         else x.replace(\"AMOUNT\",\"\").strip() if \"AMOUNT\" in x \n",
    "#         else x \n",
    "#         for x in df.columns.values]\n",
    "# df.loc[-1] = test  # adding a row\n",
    "# df.index = df.index + 1  # shifting index\n",
    "# df = df.sort_index()\n",
    "# df "
   ]
  },
  {
   "cell_type": "code",
   "execution_count": 15,
   "id": "9b958b8e",
   "metadata": {
    "execution": {
     "iopub.execute_input": "2022-12-05T15:08:12.359770Z",
     "iopub.status.busy": "2022-12-05T15:08:12.358770Z",
     "iopub.status.idle": "2022-12-05T15:08:12.377761Z",
     "shell.execute_reply": "2022-12-05T15:08:12.375761Z"
    },
    "papermill": {
     "duration": 0.03798,
     "end_time": "2022-12-05T15:08:12.379759",
     "exception": false,
     "start_time": "2022-12-05T15:08:12.341779",
     "status": "completed"
    },
    "tags": []
   },
   "outputs": [
    {
     "data": {
      "text/plain": [
       "'Orig CO Name:Venmo Orig ID:5264681992 Descr:Cashout Sec:PPD Trace#:091000018706737 EedInd Name:Crumbs Crumbles Trn: 2438706737TCDesc Date:210830 CO Entry :210831 Ind ID:'"
      ]
     },
     "execution_count": 15,
     "metadata": {},
     "output_type": "execute_result"
    }
   ],
   "source": [
    "#ESTE CAMPO HAY QUE RECONSTRUIRLO COMPLETO\n",
    "\n",
    "tables_2[\"pg2_tb2\"].DESCRIPTION[1] "
   ]
  },
  {
   "cell_type": "markdown",
   "id": "5e7da0b2",
   "metadata": {
    "papermill": {
     "duration": 0.012999,
     "end_time": "2022-12-05T15:08:12.404749",
     "exception": false,
     "start_time": "2022-12-05T15:08:12.391750",
     "status": "completed"
    },
    "tags": []
   },
   "source": [
    "### Indentificate Tables with Income and Withdrawals"
   ]
  },
  {
   "cell_type": "code",
   "execution_count": 16,
   "id": "734bf67d",
   "metadata": {
    "execution": {
     "iopub.execute_input": "2022-12-05T15:08:12.428730Z",
     "iopub.status.busy": "2022-12-05T15:08:12.428730Z",
     "iopub.status.idle": "2022-12-05T15:08:12.472030Z",
     "shell.execute_reply": "2022-12-05T15:08:12.471030Z"
    },
    "papermill": {
     "duration": 0.057293,
     "end_time": "2022-12-05T15:08:12.474029",
     "exception": false,
     "start_time": "2022-12-05T15:08:12.416736",
     "status": "completed"
    },
    "tags": []
   },
   "outputs": [],
   "source": [
    "tables_3 = {}\n",
    "for key in tables_2.keys():\n",
    "    if \"DATE\" in tables_2[key].columns and \\\n",
    "    \"Additions\" in tables_2[key].DESCRIPTION.values[len(tables_2[key]) - 1]:\n",
    "        tables_2[key][\"type\"] = \"Income\"\n",
    "        tables_2[key].drop(tables_2[key].index[len(tables_2[key])-1],inplace=True)\n",
    "        tables_3[key] = tables_2[key]\n",
    "        \n",
    "    elif \"DATE\" in tables_2[key].columns and \\\n",
    "    \"Withdrawals\" in tables_2[key].DESCRIPTION.values[len(tables_2[key]) - 1]:\n",
    "        tables_2[key][\"type\"] = \"Withdrawals\"\n",
    "        tables_2[key].drop(tables_2[key].index[len(tables_2[key])-1],inplace=True)\n",
    "        tables_3[key] = tables_2[key]\n",
    "        \n",
    "    else:\n",
    "        if len(tables_2[key].columns) == 4:\n",
    "            row = [x.replace(\"DATE\",\"\").strip() if \"DATE\" in x \n",
    "                    else x.replace(\"DESCRIPTION\",\"\").strip() if \"DESCRIPTION\" in x \n",
    "                    else x.replace(\"AMOUNT\",\"\").strip() if \"AMOUNT\" in x \n",
    "                    else x \n",
    "                    for x in tables_2[key].columns.values]\n",
    "            tables_2[key].loc[-1] = row  # adding a row\n",
    "            tables_2[key].index = tables_2[key].index + 1  # shifting index\n",
    "            tables_2[key] = tables_2[key].sort_index()\n",
    "            tables_2[key].columns = [\"DATE\", \"DESCRIPTION\", \"column_not_name\", \"AMOUNT\"]\n",
    "            tables_2[key][\"DESCRIPTION\"] = tables_2[key].DESCRIPTION + \" \" + \\\n",
    "                                           tables_2[key].column_not_name\n",
    "            tables_2[key] = tables_2[key].drop(\"column_not_name\",axis=1)\n",
    "            tables_2[key][\"type\"] = \"Withdrawals\"\n",
    "            tables_3[key] = tables_2[key]\n",
    "        else:\n",
    "            row = [x.replace(\"DATE\",\"\").strip() if \"DATE\" in x \n",
    "                    else x.replace(\"DESCRIPTION\",\"\").strip() if \"DESCRIPTION\" in x \n",
    "                    else x.replace(\"AMOUNT\",\"\").strip() if \"AMOUNT\" in x \n",
    "                    else x \n",
    "                    for x in tables_2[key].columns.values]\n",
    "            tables_2[key].loc[-1] = row  # adding a row\n",
    "            tables_2[key].index = tables_2[key].index + 1  # shifting index\n",
    "            tables_2[key] = tables_2[key].sort_index()\n",
    "            tables_2[key].columns = [\"DATE\", \"DESCRIPTION\",\"AMOUNT\"]\n",
    "            tables_2[key][\"type\"] = \"Income\"\n",
    "            tables_3[key] = tables_2[key]\n",
    "            "
   ]
  },
  {
   "cell_type": "code",
   "execution_count": 17,
   "id": "d054bb35",
   "metadata": {
    "execution": {
     "iopub.execute_input": "2022-12-05T15:08:12.495015Z",
     "iopub.status.busy": "2022-12-05T15:08:12.494019Z",
     "iopub.status.idle": "2022-12-05T15:08:12.503383Z",
     "shell.execute_reply": "2022-12-05T15:08:12.502384Z"
    },
    "papermill": {
     "duration": 0.022357,
     "end_time": "2022-12-05T15:08:12.506382",
     "exception": false,
     "start_time": "2022-12-05T15:08:12.484025",
     "status": "completed"
    },
    "tags": []
   },
   "outputs": [
    {
     "name": "stdout",
     "output_type": "stream",
     "text": [
      "pg1_tb0\n",
      "pg2_tb0\n",
      "pg2_tb1\n",
      "pg2_tb2\n"
     ]
    }
   ],
   "source": [
    "for key in tables_3.keys():\n",
    "    print(key)"
   ]
  },
  {
   "cell_type": "code",
   "execution_count": 18,
   "id": "85d8da42",
   "metadata": {
    "execution": {
     "iopub.execute_input": "2022-12-05T15:08:12.530367Z",
     "iopub.status.busy": "2022-12-05T15:08:12.529372Z",
     "iopub.status.idle": "2022-12-05T15:08:12.549772Z",
     "shell.execute_reply": "2022-12-05T15:08:12.548773Z"
    },
    "papermill": {
     "duration": 0.033397,
     "end_time": "2022-12-05T15:08:12.551773",
     "exception": false,
     "start_time": "2022-12-05T15:08:12.518376",
     "status": "completed"
    },
    "tags": []
   },
   "outputs": [
    {
     "data": {
      "text/html": [
       "<div>\n",
       "<style scoped>\n",
       "    .dataframe tbody tr th:only-of-type {\n",
       "        vertical-align: middle;\n",
       "    }\n",
       "\n",
       "    .dataframe tbody tr th {\n",
       "        vertical-align: top;\n",
       "    }\n",
       "\n",
       "    .dataframe thead th {\n",
       "        text-align: right;\n",
       "    }\n",
       "</style>\n",
       "<table border=\"1\" class=\"dataframe\">\n",
       "  <thead>\n",
       "    <tr style=\"text-align: right;\">\n",
       "      <th></th>\n",
       "      <th>DATE</th>\n",
       "      <th>DESCRIPTION</th>\n",
       "      <th>AMOUNT</th>\n",
       "      <th>type</th>\n",
       "    </tr>\n",
       "  </thead>\n",
       "  <tbody>\n",
       "    <tr>\n",
       "      <th>0</th>\n",
       "      <td>08/02</td>\n",
       "      <td>Zelle Payment From Sergio Molho Bacuco6Dhrcf</td>\n",
       "      <td>$229.00</td>\n",
       "      <td>Income</td>\n",
       "    </tr>\n",
       "    <tr>\n",
       "      <th>1</th>\n",
       "      <td>08/02</td>\n",
       "      <td>Zelle Zelle Payment From Ignacio Lanfranconi B...</td>\n",
       "      <td>100.0</td>\n",
       "      <td>Income</td>\n",
       "    </tr>\n",
       "    <tr>\n",
       "      <th>2</th>\n",
       "      <td>08/03</td>\n",
       "      <td>Orig CO Name:Venmo Orig ID:5264681992 Desc Dat...</td>\n",
       "      <td>240.0</td>\n",
       "      <td>Income</td>\n",
       "    </tr>\n",
       "    <tr>\n",
       "      <th>3</th>\n",
       "      <td>08/05</td>\n",
       "      <td>Zelle Payment From Dina Eidman Tdp0Gdd6G7G2</td>\n",
       "      <td>50.0</td>\n",
       "      <td>Income</td>\n",
       "    </tr>\n",
       "    <tr>\n",
       "      <th>4</th>\n",
       "      <td>08/09</td>\n",
       "      <td>Remote Online Deposit 1</td>\n",
       "      <td>60.0</td>\n",
       "      <td>Income</td>\n",
       "    </tr>\n",
       "    <tr>\n",
       "      <th>5</th>\n",
       "      <td>08/09</td>\n",
       "      <td>Orig CO Name:Venmo Orig ID:5264681992 Desc Dat...</td>\n",
       "      <td>107.0</td>\n",
       "      <td>Income</td>\n",
       "    </tr>\n",
       "    <tr>\n",
       "      <th>6</th>\n",
       "      <td>08/09</td>\n",
       "      <td>Orig CO Name:Venmo Orig ID:5264681992 Desc Dat...</td>\n",
       "      <td>90.0</td>\n",
       "      <td>Income</td>\n",
       "    </tr>\n",
       "    <tr>\n",
       "      <th>7</th>\n",
       "      <td>08/10</td>\n",
       "      <td>Zelle Payment From Hernan Berman Bacvkdsxl2Rv</td>\n",
       "      <td>80.0</td>\n",
       "      <td>Income</td>\n",
       "    </tr>\n",
       "    <tr>\n",
       "      <th>8</th>\n",
       "      <td>08/20</td>\n",
       "      <td>Orig CO Name:Venmo Orig ID:5264681992 Desc Dat...</td>\n",
       "      <td>150.0</td>\n",
       "      <td>Income</td>\n",
       "    </tr>\n",
       "    <tr>\n",
       "      <th>9</th>\n",
       "      <td>08/23</td>\n",
       "      <td>Zelle Payment From Natalia Palazzo Wfct0C7Nthjl</td>\n",
       "      <td>115.0</td>\n",
       "      <td>Income</td>\n",
       "    </tr>\n",
       "    <tr>\n",
       "      <th>10</th>\n",
       "      <td>08/23</td>\n",
       "      <td>Zelle Payment From Layla De Armas 12442941880</td>\n",
       "      <td>55.0</td>\n",
       "      <td>Income</td>\n",
       "    </tr>\n",
       "    <tr>\n",
       "      <th>11</th>\n",
       "      <td>08/25</td>\n",
       "      <td>Orig CO Name:Venmo Orig ID:5264681992 Desc Dat...</td>\n",
       "      <td>415.0</td>\n",
       "      <td>Income</td>\n",
       "    </tr>\n",
       "    <tr>\n",
       "      <th>12</th>\n",
       "      <td>08/30</td>\n",
       "      <td>Zelle Payment From Natalia Palazzo Wfct0C8Zw4NJ</td>\n",
       "      <td>105.0</td>\n",
       "      <td>Income</td>\n",
       "    </tr>\n",
       "  </tbody>\n",
       "</table>\n",
       "</div>"
      ],
      "text/plain": [
       "     DATE                                        DESCRIPTION   AMOUNT    type\n",
       "0   08/02       Zelle Payment From Sergio Molho Bacuco6Dhrcf  $229.00  Income\n",
       "1   08/02  Zelle Zelle Payment From Ignacio Lanfranconi B...    100.0  Income\n",
       "2   08/03  Orig CO Name:Venmo Orig ID:5264681992 Desc Dat...    240.0  Income\n",
       "3   08/05        Zelle Payment From Dina Eidman Tdp0Gdd6G7G2     50.0  Income\n",
       "4   08/09                            Remote Online Deposit 1     60.0  Income\n",
       "5   08/09  Orig CO Name:Venmo Orig ID:5264681992 Desc Dat...    107.0  Income\n",
       "6   08/09  Orig CO Name:Venmo Orig ID:5264681992 Desc Dat...     90.0  Income\n",
       "7   08/10      Zelle Payment From Hernan Berman Bacvkdsxl2Rv     80.0  Income\n",
       "8   08/20  Orig CO Name:Venmo Orig ID:5264681992 Desc Dat...    150.0  Income\n",
       "9   08/23    Zelle Payment From Natalia Palazzo Wfct0C7Nthjl    115.0  Income\n",
       "10  08/23      Zelle Payment From Layla De Armas 12442941880     55.0  Income\n",
       "11  08/25  Orig CO Name:Venmo Orig ID:5264681992 Desc Dat...    415.0  Income\n",
       "12  08/30    Zelle Payment From Natalia Palazzo Wfct0C8Zw4NJ    105.0  Income"
      ]
     },
     "execution_count": 18,
     "metadata": {},
     "output_type": "execute_result"
    }
   ],
   "source": [
    "tables_3[\"pg1_tb0\"]"
   ]
  },
  {
   "cell_type": "markdown",
   "id": "4494807e",
   "metadata": {
    "papermill": {
     "duration": 0.011995,
     "end_time": "2022-12-05T15:08:12.574760",
     "exception": false,
     "start_time": "2022-12-05T15:08:12.562765",
     "status": "completed"
    },
    "tags": []
   },
   "source": [
    "### Final Step and Compile all Information in 1 DataFrame"
   ]
  },
  {
   "cell_type": "code",
   "execution_count": 19,
   "id": "a44179d1",
   "metadata": {
    "execution": {
     "iopub.execute_input": "2022-12-05T15:08:12.605741Z",
     "iopub.status.busy": "2022-12-05T15:08:12.604741Z",
     "iopub.status.idle": "2022-12-05T15:08:12.644148Z",
     "shell.execute_reply": "2022-12-05T15:08:12.642147Z"
    },
    "papermill": {
     "duration": 0.056395,
     "end_time": "2022-12-05T15:08:12.647146",
     "exception": false,
     "start_time": "2022-12-05T15:08:12.590751",
     "status": "completed"
    },
    "tags": []
   },
   "outputs": [],
   "source": [
    "df_chase_final = pd.DataFrame()\n",
    "for key in tables_3.keys():\n",
    "    df_chase_final = pd.concat([df_chase_final, tables_3[key]], axis=0)\n",
    "    df_chase_final = df_chase_final.sort_values([\"type\", \"DATE\"])\n",
    "    df_chase_final.AMOUNT = df_chase_final.AMOUNT.astype(str)\n",
    "    df_chase_final.AMOUNT = df_chase_final.AMOUNT.apply(lambda x: x.replace(\"$\", \"\"))\n",
    "    df_chase_final.AMOUNT = df_chase_final.AMOUNT.astype(float)\n",
    "    "
   ]
  },
  {
   "cell_type": "markdown",
   "id": "183096d9",
   "metadata": {
    "papermill": {
     "duration": 0.008994,
     "end_time": "2022-12-05T15:08:12.667133",
     "exception": false,
     "start_time": "2022-12-05T15:08:12.658139",
     "status": "completed"
    },
    "tags": []
   },
   "source": [
    "### Check Information"
   ]
  },
  {
   "cell_type": "code",
   "execution_count": 20,
   "id": "af905070",
   "metadata": {
    "execution": {
     "iopub.execute_input": "2022-12-05T15:08:12.688133Z",
     "iopub.status.busy": "2022-12-05T15:08:12.687122Z",
     "iopub.status.idle": "2022-12-05T15:08:12.708126Z",
     "shell.execute_reply": "2022-12-05T15:08:12.706126Z"
    },
    "papermill": {
     "duration": 0.033982,
     "end_time": "2022-12-05T15:08:12.711121",
     "exception": false,
     "start_time": "2022-12-05T15:08:12.677139",
     "status": "completed"
    },
    "tags": []
   },
   "outputs": [
    {
     "data": {
      "text/plain": [
       "2130.0"
      ]
     },
     "execution_count": 20,
     "metadata": {},
     "output_type": "execute_result"
    }
   ],
   "source": [
    "df_chase_final[df_chase_final.type == \"Income\"].AMOUNT.sum()"
   ]
  },
  {
   "cell_type": "code",
   "execution_count": 21,
   "id": "0eecefbc",
   "metadata": {
    "execution": {
     "iopub.execute_input": "2022-12-05T15:08:12.737106Z",
     "iopub.status.busy": "2022-12-05T15:08:12.737106Z",
     "iopub.status.idle": "2022-12-05T15:08:12.754774Z",
     "shell.execute_reply": "2022-12-05T15:08:12.753772Z"
    },
    "papermill": {
     "duration": 0.036657,
     "end_time": "2022-12-05T15:08:12.757772",
     "exception": false,
     "start_time": "2022-12-05T15:08:12.721115",
     "status": "completed"
    },
    "tags": []
   },
   "outputs": [
    {
     "data": {
      "text/plain": [
       "1898.6800000000003"
      ]
     },
     "execution_count": 21,
     "metadata": {},
     "output_type": "execute_result"
    }
   ],
   "source": [
    "df_chase_final[df_chase_final.type == \"Withdrawals\"].AMOUNT.sum()"
   ]
  },
  {
   "cell_type": "markdown",
   "id": "ef66e118",
   "metadata": {
    "papermill": {
     "duration": 0.009995,
     "end_time": "2022-12-05T15:08:12.784756",
     "exception": false,
     "start_time": "2022-12-05T15:08:12.774761",
     "status": "completed"
    },
    "tags": []
   },
   "source": [
    "## Delete Names"
   ]
  },
  {
   "cell_type": "code",
   "execution_count": 22,
   "id": "eeb50811",
   "metadata": {
    "execution": {
     "iopub.execute_input": "2022-12-05T15:08:12.814271Z",
     "iopub.status.busy": "2022-12-05T15:08:12.814271Z",
     "iopub.status.idle": "2022-12-05T15:08:12.832035Z",
     "shell.execute_reply": "2022-12-05T15:08:12.831035Z"
    },
    "papermill": {
     "duration": 0.039283,
     "end_time": "2022-12-05T15:08:12.836032",
     "exception": false,
     "start_time": "2022-12-05T15:08:12.796749",
     "status": "completed"
    },
    "tags": []
   },
   "outputs": [],
   "source": [
    "names = [\"Sergio Molho\",\n",
    "\"Ignacio Lanfranconi\",\n",
    "\"Dina Eidman\",\n",
    "\"Hernan Berman\",\n",
    "\"Natalia Palazzo\",\n",
    "\"Layla De Armas\",\n",
    "\"Natalia Palazzo\",\n",
    "\"Brian Hunis\",\n",
    "\"Natalia Wartensleben\",\n",
    "\"Juan Arango Dulce De Lecehe\",\n",
    "\"Maia\",\n",
    "\"Cynthia Romina\",\n",
    "\"Venmo\"]"
   ]
  },
  {
   "cell_type": "code",
   "execution_count": 23,
   "id": "2bd4b418",
   "metadata": {
    "execution": {
     "iopub.execute_input": "2022-12-05T15:08:12.908991Z",
     "iopub.status.busy": "2022-12-05T15:08:12.907991Z",
     "iopub.status.idle": "2022-12-05T15:08:12.930979Z",
     "shell.execute_reply": "2022-12-05T15:08:12.925980Z"
    },
    "papermill": {
     "duration": 0.048975,
     "end_time": "2022-12-05T15:08:12.937977",
     "exception": false,
     "start_time": "2022-12-05T15:08:12.889002",
     "status": "completed"
    },
    "tags": []
   },
   "outputs": [],
   "source": [
    "for name in names:\n",
    "    df_chase_final.DESCRIPTION = df_chase_final.DESCRIPTION.apply(lambda x: x.replace(name, \"#####\"))"
   ]
  },
  {
   "cell_type": "markdown",
   "id": "15a756af",
   "metadata": {
    "papermill": {
     "duration": 0.010994,
     "end_time": "2022-12-05T15:08:12.960960",
     "exception": false,
     "start_time": "2022-12-05T15:08:12.949966",
     "status": "completed"
    },
    "tags": []
   },
   "source": [
    "## Save Output"
   ]
  },
  {
   "cell_type": "code",
   "execution_count": 24,
   "id": "0b9f7a85",
   "metadata": {
    "execution": {
     "iopub.execute_input": "2022-12-05T15:08:12.984947Z",
     "iopub.status.busy": "2022-12-05T15:08:12.983948Z",
     "iopub.status.idle": "2022-12-05T15:08:13.004146Z",
     "shell.execute_reply": "2022-12-05T15:08:13.003147Z"
    },
    "papermill": {
     "duration": 0.03519,
     "end_time": "2022-12-05T15:08:13.006145",
     "exception": false,
     "start_time": "2022-12-05T15:08:12.970955",
     "status": "completed"
    },
    "tags": []
   },
   "outputs": [],
   "source": [
    "df_chase_final[\"bank\"] = \"Chase\"\n",
    "folder_output = \"output_script\"\n",
    "file = \"chase_output.csv\""
   ]
  },
  {
   "cell_type": "code",
   "execution_count": 25,
   "id": "b0da8c11",
   "metadata": {
    "execution": {
     "iopub.execute_input": "2022-12-05T15:08:13.032129Z",
     "iopub.status.busy": "2022-12-05T15:08:13.032129Z",
     "iopub.status.idle": "2022-12-05T15:08:13.051120Z",
     "shell.execute_reply": "2022-12-05T15:08:13.050133Z"
    },
    "papermill": {
     "duration": 0.036979,
     "end_time": "2022-12-05T15:08:13.054117",
     "exception": false,
     "start_time": "2022-12-05T15:08:13.017138",
     "status": "completed"
    },
    "tags": []
   },
   "outputs": [],
   "source": [
    "df_chase_final.to_csv(os.path.join(path,folder_output, file), index=False, encoding=\"utf8\")"
   ]
  }
 ],
 "metadata": {
  "kernelspec": {
   "display_name": "venv",
   "language": "python",
   "name": "python3"
  },
  "language_info": {
   "codemirror_mode": {
    "name": "ipython",
    "version": 3
   },
   "file_extension": ".py",
   "mimetype": "text/x-python",
   "name": "python",
   "nbconvert_exporter": "python",
   "pygments_lexer": "ipython3",
   "version": "3.10.5 (tags/v3.10.5:f377153, Jun  6 2022, 16:14:13) [MSC v.1929 64 bit (AMD64)]"
  },
  "papermill": {
   "default_parameters": {},
   "duration": 6.258869,
   "end_time": "2022-12-05T15:08:13.427770",
   "environment_variables": {},
   "exception": null,
   "input_path": "chase_case.ipynb",
   "output_path": "chase_case.ipynb",
   "parameters": {},
   "start_time": "2022-12-05T15:08:07.168901",
   "version": "2.4.0"
  },
  "vscode": {
   "interpreter": {
    "hash": "b7a37235a2a0b468d2679cea264852352efd4af2e267d85e36c7b7619b001185"
   }
  }
 },
 "nbformat": 4,
 "nbformat_minor": 5
}
