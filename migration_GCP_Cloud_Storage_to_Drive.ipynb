{
 "cells": [
  {
   "cell_type": "code",
   "execution_count": 4,
   "metadata": {},
   "outputs": [],
   "source": [
    "from gcp_functions import GCPStorage_to_drive, Create_Service, get_subfolders_names\n",
    "from googleapiclient.discovery import build\n",
    "from google.auth.transport.requests import Request\n",
    "from googleapiclient.errors import HttpError\n",
    "from googleapiclient.http import MediaIoBaseDownload, MediaIoBaseUpload\n",
    "#from oauth2client.service_account import ServiceAccountCredentials\n",
    "from google.oauth2.service_account import Credentials\n",
    "import requests"
   ]
  },
  {
   "cell_type": "code",
   "execution_count": 5,
   "metadata": {},
   "outputs": [
    {
     "name": "stdout",
     "output_type": "stream",
     "text": [
      "credencials.json-drive-v3-(['https://www.googleapis.com/auth/drive'],)\n",
      "['https://www.googleapis.com/auth/drive']\n",
      "drive service created successfully\n",
      "Folder with ID: \"16uMOSINp87mQsXugFPRo8K0sLTDxcnho\" created in Google Drive\n",
      "File with ID: \"1WcYfx1skDyWA4tQYLfaS4XC6QWUJx1kG\" created in Google Drive\n",
      "File with ID: \"1rh6sKR0W2Bn7SjYUMUqs__X0rmm2QjlU\" created in Google Drive\n",
      "File with ID: \"1MQAflPtOXgIhtpqdGcyTK9X6S-4hDEFb\" created in Google Drive\n",
      "File with ID: \"1WzkMFDy5fil_6qMJUqJu_L-otNwUCZGF\" created in Google Drive\n",
      "File with ID: \"1SGP-oEv8Qxop5HtNAuQNKKHL_4zoopHb\" created in Google Drive\n",
      "File with ID: \"1y6lYetf49JdG_oFxWUxMI0SDsGplUM9W\" created in Google Drive\n",
      "File with ID: \"1GTmLFj71pzl1uAhobqw9ceumijYSY5Ue\" created in Google Drive\n",
      "File with ID: \"11p6WcbkJNLe6L-ggSKkV6O01EScc8XrB\" created in Google Drive\n",
      "File with ID: \"1rFpWKVKanibBFvkPJg3sMfWTv8NhRp_l\" created in Google Drive\n",
      "File with ID: \"1Cm-rrC3Ka8Ff-4143byxJzcKpypEFuT6\" created in Google Drive\n",
      "File with ID: \"1hprUM-TY6tli_BxY2fPbr-2ZeGW2dmoq\" created in Google Drive\n",
      "File with ID: \"1LsEDlCa8iHw024C41D93P8NFnLFs9FPG\" created in Google Drive\n",
      "File with ID: \"1HVeSF_pf41dvZk9Abf45wuZbYziU-XH6\" created in Google Drive\n",
      "File with ID: \"1aMb_kjMuVwJ-seE83vxKgw2HIX5jKDOJ\" created in Google Drive\n",
      "File with ID: \"1-Pa2bslSIJ2ywMLjuKJ7qnKFMUwtrhiI\" created in Google Drive\n",
      "File with ID: \"1dH9Z8fPNmzEnfGB5HSb0qi4MRHXBL_ZK\" created in Google Drive\n",
      "File with ID: \"1JJoS_MjyRenZjSj2zjrvHqlklMoydqDb\" created in Google Drive\n",
      "Folder with ID: \"1P2l2pxtjD-UoQ--XCDHF59LgEBMIlHRZ\" created in Google Drive\n",
      "File with ID: \"1HaeeGTeQ1x30P2WjajIaoc6OGfmBi-QR\" created in Google Drive\n",
      "File with ID: \"1eh7dhX1fm3-osvfnTrgYUl4EP8zIigbq\" created in Google Drive\n",
      "File with ID: \"1IDao1VDaOnPi3MkT83LvgQ7KjZnXSOlH\" created in Google Drive\n",
      "File with ID: \"1UOz3j4ehx9BQCQphQWESlgtmNonWFDd7\" created in Google Drive\n",
      "File with ID: \"1OvWXpP6TtkE_80G08TCgLwotgkp2qnhz\" created in Google Drive\n",
      "File with ID: \"1zg_l4mC1WJo-l3TFkFEuFCbwffVwEXLB\" created in Google Drive\n",
      "File with ID: \"1Y-Qi7yvAVRpaf68vRBMXkiCY7E2rvLdZ\" created in Google Drive\n",
      "File with ID: \"1fFbics-Qo-e6JVwRPMVtvhgi8mfddpr2\" created in Google Drive\n",
      "File with ID: \"15oGdrkXXn8eUHIMNDqpMMu5RPtFaPYNr\" created in Google Drive\n",
      "File with ID: \"1Q3Poegt5IJxW89h3t2HvmnNEWyzYz9Zi\" created in Google Drive\n",
      "File with ID: \"1Q6TyklRwgkJeN8vr9ZmLTf39LkGe4qPr\" created in Google Drive\n",
      "File with ID: \"1Jp32GbEB5ZPe30vE1mmKa116-8iynVob\" created in Google Drive\n",
      "File with ID: \"1BttMS5l-qL8jEYW2jEB2-xG-W0jbXkax\" created in Google Drive\n",
      "File with ID: \"1RTG4bJuu3NNjn4yjJqa63X7gpb3PNBb9\" created in Google Drive\n",
      "File with ID: \"1HeuLPEb0a_WRHblqGU8atZLhR-5YSVye\" created in Google Drive\n",
      "File with ID: \"1DHUwyKnJvGrRtVocwrUmKZ-sUr9CKWbJ\" created in Google Drive\n",
      "File with ID: \"122pJs-l-GOxw_Xg5HrfS2H5j5j2Lt_d0\" created in Google Drive\n"
     ]
    }
   ],
   "source": [
    "GCPStorage_to_drive(bucket_name=\"test_documentai_process\", \n",
    "                    master_folder=\"test_migration_GCP_to_drive\", \n",
    "                    folder_id_drive=\"1DJC9UmCE_IP6eCmVKEz-gHcl0dKn4wAv\")"
   ]
  },
  {
   "cell_type": "code",
   "execution_count": 6,
   "metadata": {},
   "outputs": [],
   "source": [
    "# CLIENT_SECRET_FILE = \"credencials.json\"\n",
    "# APY_NAME = \"drive\"\n",
    "# API_VERSION = \"v3\"\n",
    "# SCOPES = [\"https://www.googleapis.com/auth/drive\"]\n",
    "# master_folder = \"test_migration_GCP_to_drive\"\n",
    "\n",
    "# # Crea una instancia del servicio de Drive\n",
    "# drive_service = Create_Service(CLIENT_SECRET_FILE, APY_NAME, API_VERSION, SCOPES)\n",
    "\n",
    "# # Especificar las credenciales de tu proyecto de Google Cloud\n",
    "# creds = Credentials.from_service_account_file('un-analitica-avanzada-c681cb310169.json')\n",
    "\n",
    "# # Crear un cliente de Google Cloud Storage\n",
    "# storage_service = build('storage', 'v1', credentials=creds)  \n",
    "\n",
    "# # Obtener la lista de subcarpetas en la carpeta maestra de Google Cloud Storage\n",
    "# subfolders = get_subfolders_names(bucket_name=\"test_documentai_process\", \n",
    "#                                   folder_name=\"test_migration_GCP_to_drive\")\n",
    "\n",
    "# print(subfolders)\n",
    "# # Iterar sobre las subcarpetas y migrar los archivos de cada una a Google Drive\n",
    "# for subfolder in subfolders:\n",
    "    \n",
    "#     # Crear una carpeta en Google Drive para almacenar los archivos\n",
    "#     folder_metadata = {\n",
    "#         'name': subfolder,\n",
    "#         'mimeType': 'application/vnd.google-apps.folder',\n",
    "#         'parents': [\"1DJC9UmCE_IP6eCmVKEz-gHcl0dKn4wAv\"]\n",
    "#     }\n",
    "\n",
    "#     folder_drive = drive_service.files().create(body=folder_metadata, fields='id').execute()\n",
    "#     folder_id = folder_drive['id']\n",
    "#     print(F'Folder with ID: \"{folder_id}\" created in Google Drive')\n",
    "\n",
    "#     # Obtener la lista de archivos en la subcarpeta de Google Cloud Storage\n",
    "#     files = storage_service.objects().list(bucket=\"test_documentai_process\", prefix=f\"{master_folder}/{subfolder}\").execute()['items']\n",
    "\n",
    "#     # Iterar sobre la lista de archivos y migrar cada uno a Google Drive\n",
    "#     for file in files:\n",
    "#         file_name = file['name'].split(\"/\")[-1]\n",
    "#         print(file_name)\n",
    "        \n",
    "#         # Obtener el contenido del archivo como una cadena de bytes\n",
    "#         file_content = storage_service.objects().get_media(bucket=\"test_documentai_process\", object=f\"{master_folder}/{subfolder}/{file_name}\").execute()#['content']\n",
    "#         #print(file_content)\n",
    "#         # media_link = file_content['mediaLink']\n",
    "        \n",
    "\n",
    "#         # file_content = requests.get(media_link, credentials=creds).content\n",
    "#         # print(file_content)"
   ]
  }
 ],
 "metadata": {
  "kernelspec": {
   "display_name": "venv",
   "language": "python",
   "name": "python3"
  },
  "language_info": {
   "codemirror_mode": {
    "name": "ipython",
    "version": 3
   },
   "file_extension": ".py",
   "mimetype": "text/x-python",
   "name": "python",
   "nbconvert_exporter": "python",
   "pygments_lexer": "ipython3",
   "version": "3.10.5 (tags/v3.10.5:f377153, Jun  6 2022, 16:14:13) [MSC v.1929 64 bit (AMD64)]"
  },
  "orig_nbformat": 4,
  "vscode": {
   "interpreter": {
    "hash": "b7a37235a2a0b468d2679cea264852352efd4af2e267d85e36c7b7619b001185"
   }
  }
 },
 "nbformat": 4,
 "nbformat_minor": 2
}
